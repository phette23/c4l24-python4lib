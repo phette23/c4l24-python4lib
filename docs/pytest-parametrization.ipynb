{
 "cells": [
  {
   "cell_type": "markdown",
   "metadata": {},
   "source": [
    "# Pytest Parametrization\n",
    "\n",
    "[Pytest Documentation](https://docs.pytest.org/en/stable/)\n",
    "\n",
    "[Parametrization Documentation](https://docs.pytest.org/en/stable/parametrize.html)\n",
    "\n",
    "It's common to need to ensure that a function works with a variety of inputs. Pytest is a module that provides nice conveniences and features for writing tests beyond the standard library's `unittest` module. Its parametrization feature lets you write a test function which can be run with a series of expected input/output pairs. This is done with the `@pytest.mark.parametrize` decorator.\n",
    "\n",
    "This code will require pytest to be installed e.g. with `pip install pytest`."
   ]
  },
  {
   "cell_type": "code",
   "execution_count": null,
   "metadata": {},
   "outputs": [],
   "source": [
    "# given YYYY-MM-DD date return the current semester\n",
    "def semester(date: str):\n",
    "    year, month = date.split('-')[:2]\n",
    "    year = int(year)\n",
    "    month = int(month)\n",
    "    if month < 1 or month > 12:\n",
    "        return None\n",
    "    if month < 6:\n",
    "        return f'Spring {year}'\n",
    "    if month < 9:\n",
    "        return f'Summer {year}'\n",
    "    return f'Winter {year}'"
   ]
  },
  {
   "cell_type": "markdown",
   "metadata": {},
   "source": [
    "Here's how you might write tests without parametrization:"
   ]
  },
  {
   "cell_type": "code",
   "execution_count": 3,
   "metadata": {},
   "outputs": [],
   "source": [
    "def test_semester():\n",
    "    assert semester('2020-01-01') == 'Spring 2020'\n",
    "    assert semester('2020-05-01') == 'Spring 2020'\n",
    "    assert semester('2020-08-01') == 'Summer 2020'\n",
    "    assert semester('2020-12-01') == 'Winter 2020'\n",
    "    assert semester('2020-13-01') == None\n",
    "    assert semester('2020-00-01') == None"
   ]
  },
  {
   "cell_type": "markdown",
   "metadata": {},
   "source": [
    "That's fairly repetitive, with the `assert` and `semester` symbols repeated over and over. Here's how you might write the same tests with parametrization:"
   ]
  },
  {
   "cell_type": "code",
   "execution_count": 4,
   "metadata": {},
   "outputs": [],
   "source": [
    "import pytest\n",
    "\n",
    "@pytest.mark.parametrize(\"input,expected\", [\n",
    "    ('2020-01-01', 'Spring 2020'),\n",
    "    ('2020-05-01', 'Spring 2020'),\n",
    "    ('2020-08-01', 'Summer 2020'),\n",
    "    ('2020-12-01', 'Winter 2020'),\n",
    "    ('2020-13-01', None),\n",
    "    ('2020-00-01', None),\n",
    "])\n",
    "def test_semester(input, expected):\n",
    "    assert semester(input) == expected"
   ]
  },
  {
   "cell_type": "markdown",
   "metadata": {},
   "source": [
    "This function runs the same tests as before. The `@pytest.mark.parametrize` decorator takes two arguments: a string with the names of the arguments to the test function, and a list of tuples. Each tuple in the list is a set of arguments to the test function. The test function is run once for each tuple in the list. So the above code actually makes six assertions, not just one. If run via the `pytest` command line interface, it mentions six successful tests.\n",
    "\n",
    "The parametrized version doesn't look much less verbose but it's really easy to add or modify tests in the list of tuples. The input or output can be as complex as anything you could do in a regular test."
   ]
  },
  {
   "cell_type": "code",
   "execution_count": 9,
   "metadata": {},
   "outputs": [],
   "source": [
    "from datetime import date\n",
    "\n",
    "# if we need to process input, ex. convert date object to the string that our function expects\n",
    "# this is much more verbose without parametrization because the date conversion would be repeated each time\n",
    "@pytest.mark.parametrize(\"input,expected\", [\n",
    "    (date(2020, 1, 1), 'Spring 2020'),\n",
    "    (date(2020, 5, 1), 'Spring 2020'),\n",
    "    (date(2020, 8, 1), 'Summer 2020'),\n",
    "    (date(2020, 12, 1), 'Winter 2020'),\n",
    "])\n",
    "def test_semester(input, expected):\n",
    "    input = input.strftime('%Y-%m-%d')\n",
    "    assert semester(input) == expected"
   ]
  }
 ],
 "metadata": {
  "kernelspec": {
   "display_name": ".venv",
   "language": "python",
   "name": "python3"
  },
  "language_info": {
   "codemirror_mode": {
    "name": "ipython",
    "version": 3
   },
   "file_extension": ".py",
   "mimetype": "text/x-python",
   "name": "python",
   "nbconvert_exporter": "python",
   "pygments_lexer": "ipython3",
   "version": "3.12.3"
  }
 },
 "nbformat": 4,
 "nbformat_minor": 2
}
