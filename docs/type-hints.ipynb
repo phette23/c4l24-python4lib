{
 "cells": [
  {
   "cell_type": "markdown",
   "metadata": {},
   "source": [
    "# Type Hints\n",
    "\n",
    "Python Version: 3.5 but with many improvements added in the following releases.\n",
    "\n",
    "[Official Docs](https://docs.python.org/3/library/typing.html)\n",
    "\n",
    "[Mypy cheatsheet](https://mypy.readthedocs.io/en/stable/cheat_sheet_py3.html)\n",
    "\n",
    "Python supports type hints which say what type of value a variable or function parameter is. They are not enforced by the Python interpreter but can be used by static type checkers like Mypy or Pylance to catch errors.\n",
    "\n",
    "## Why use type hints?\n",
    "\n",
    "Type hints make catching errors easier and code more readable. For instance, a function signature like `def convert(date)` can be confusing on its own; is date a string, a datetime object, or something else? Type hints concisely show you how a program expects to be used.\n",
    "\n",
    "I think they're at their best catching unexpected return values from functions. For instance, you might have a hole in your logic that results in a function returning `None` (the value returned when you do not explicitly `return` anything) and then later consume that return value but not account for it being `None`. Another way they're immensely helpful is that type checkers _known the types and return values of everything in the standard library_ and most things in imported modules. They check that your understanding of others' code is correct.\n",
    "\n",
    "When I started using type checking, one of the most common warnings I saw on our Django website was a lot of code which looks like `db.objects().first()` where I assumed I had an object but in fact this method can return `None` if no objects have been created in the database yet. Type hints know the expect return values of these `db` methods and catch such errors.\n",
    "\n",
    "Another super common error in my code: the iterator returend by pymarc's `MARCReader` does not always return a `Record` object, sometimes it returns `None`:"
   ]
  },
  {
   "cell_type": "code",
   "execution_count": null,
   "metadata": {},
   "outputs": [],
   "source": [
    "from pymarc import MARCReader\n",
    "\n",
    "with open('example.mrc', 'rb') as fh:\n",
    "    reader = MARCReader(fh)\n",
    "    for record in reader:\n",
    "        # record could be None so we need this if condition\n",
    "        if record:\n",
    "            dosomething(record)"
   ]
  },
  {
   "cell_type": "markdown",
   "metadata": {},
   "source": [
    "\n",
    "\n",
    "## But how do they work?\n",
    "\n",
    "Type hints for variables and parameters consistent of a colon followed by the type. Type hints for functions' return values are indicated by an arrow `->`. Types are the same values you see when you call `type()` on a value, such as `int`, `str`, `list`, `dict`, etc."
   ]
  },
  {
   "cell_type": "code",
   "execution_count": 1,
   "metadata": {},
   "outputs": [
    {
     "name": "stdout",
     "output_type": "stream",
     "text": [
      "Hello, 23\n"
     ]
    }
   ],
   "source": [
    "from random import randint\n",
    "\n",
    "# basic type hints\n",
    "name: str = \"Eric\"\n",
    "age: int = 87\n",
    "\n",
    "# python \"knows\" randint returns an int so this works\n",
    "def random_age() -> int:\n",
    "    return randint(0, 100)\n",
    "\n",
    "age = random_age()\n",
    "\n",
    "def greeting(fname: str) -> str:\n",
    "    return f\"Hello, {fname}\"\n",
    "\n",
    "print(greeting(age)) # warning! age is an int, not a str"
   ]
  },
  {
   "cell_type": "markdown",
   "metadata": {},
   "source": [
    "The above is an excellent example because the `f` string returned by `greeting` actually doesn't care that it has an `int` inside it, it coerces the `int` to a string. So there's no error thrown, but our function wasn't used in the intended way! The type hints are catching something that is technically valid code, which does not raise an exception, but is not what we intended."
   ]
  },
  {
   "cell_type": "markdown",
   "metadata": {},
   "source": [
    "When you annotate something as a list, you can also specify what types of values are in the list. For instance, `List[int]` is a list of integers.\n",
    "\n",
    "When declaring type hints for dicts, you declare the type of the keys and the values. For instance, `Dict[str, int]` is a dictionary where the keys are strings and the values are integers.\n",
    "\n"
   ]
  },
  {
   "cell_type": "code",
   "execution_count": 2,
   "metadata": {},
   "outputs": [],
   "source": [
    "english_numbers: dict[int, str] = {\n",
    "    1: \"one\",\n",
    "    2: \"two\",\n",
    "    3: \"three\",\n",
    "}\n",
    "number_words: list[str] = list(english_numbers.values())"
   ]
  },
  {
   "cell_type": "markdown",
   "metadata": {},
   "source": [
    "Why if my type isn't one of the core ones included in the global namespace? You can import classes from modules to use in your type hints. There is also a `typing` module with many important utilities."
   ]
  },
  {
   "cell_type": "code",
   "execution_count": 4,
   "metadata": {},
   "outputs": [
    {
     "data": {
      "text/plain": [
       "os.stat_result(st_mode=33204, st_ino=2413209, st_dev=16777234, st_nlink=1, st_uid=502, st_gid=20, st_size=972986, st_atime=1710467870, st_mtime=1685738676, st_ctime=1701375669)"
      ]
     },
     "execution_count": 4,
     "metadata": {},
     "output_type": "execute_result"
    }
   ],
   "source": [
    "from os import stat, stat_result # stat_result is a specific object structure\n",
    "from pathlib import Path # we are only using Path in our type hint\n",
    "\n",
    "def stat_doc(doc: Path) -> stat_result:\n",
    "    # The \"/\" operator wouldn't work without a Path argument, can't use with 2 strings\n",
    "    doc = \"/Users/ephetteplace/Documents\" / doc\n",
    "    return stat(doc)\n",
    "\n",
    "stat_doc(Path(\"DataCite-MetadataKernel_v4.4.pdf\"))"
   ]
  },
  {
   "cell_type": "markdown",
   "metadata": {},
   "source": [
    "## Your Own Classes\n",
    "\n",
    "Have a custom structure which your code uses over and over? Type hints give you a concrete reason to define a class for it. There was a discussion a while back in the python4lib Slack channel about when to start using object-oriented programming and folks felt more comfortable writing mostly functions. That makes perfect sense, but type hints can provide an incentive to create a little more structure and abstract commons patterns from your data."
   ]
  },
  {
   "cell_type": "code",
   "execution_count": null,
   "metadata": {},
   "outputs": [],
   "source": [
    "from datetime import date\n",
    "\n",
    "class Student():\n",
    "    def __init__(self, name: str, grad_date: str|None) -> None:\n",
    "        self.name: str = name\n",
    "        self.graduation_date: date | None = date.fromisoformat(grad_date) if grad_date else None\n",
    "\n",
    "    @property\n",
    "    def is_alumni(self) -> bool:\n",
    "        # can't do this grad date math if it's a string\n",
    "        return self.graduation_date is not None and self.graduation_date < date.today()\n",
    "\n",
    "person = {\n",
    "    \"name\": \"Eric\",\n",
    "    \"graduation_date\": \"2022-05-15\"\n",
    "}\n",
    "\n",
    "# this raises an error because student is a dict, not a Student object with the\n",
    "# is_alumni property calculated from their graduation date\n",
    "if person.is_alumni:\n",
    "    print(f\"ask {person.name} for a donation\")\n",
    "\n",
    "person = Student(**person)\n",
    "\n",
    "if person.is_alumni:\n",
    "    print(f\"ask {person.name} for a donation\") # this works!"
   ]
  },
  {
   "cell_type": "markdown",
   "metadata": {},
   "source": [
    "To do:\n",
    "- Any and working around errors (e.g. from external libraries you can't control)\n",
    "- Optional\n",
    "- Union types\n",
    "- Literal"
   ]
  }
 ],
 "metadata": {
  "kernelspec": {
   "display_name": ".venv",
   "language": "python",
   "name": "python3"
  },
  "language_info": {
   "codemirror_mode": {
    "name": "ipython",
    "version": 3
   },
   "file_extension": ".py",
   "mimetype": "text/x-python",
   "name": "python",
   "nbconvert_exporter": "python",
   "pygments_lexer": "ipython3",
   "version": "3.12.3"
  }
 },
 "nbformat": 4,
 "nbformat_minor": 2
}
