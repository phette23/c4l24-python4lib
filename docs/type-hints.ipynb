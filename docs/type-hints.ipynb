{
 "cells": [
  {
   "cell_type": "markdown",
   "metadata": {},
   "source": [
    "# Type Hints\n",
    "\n",
    "Python Version: 3.5 but with many improvements added in the following releases.\n",
    "\n",
    "[Official Docs](https://docs.python.org/3/library/typing.html)\n",
    "\n",
    "[Mypy cheatsheet](https://mypy.readthedocs.io/en/stable/cheat_sheet_py3.html)\n",
    "\n",
    "Python supports type hints which say what type of value a variable or function parameter is. They are not enforced by the Python interpreter but can be used by static type checkers like Mypy or Pylance in VS Code to catch errors.\n",
    "\n",
    "## Why use type hints?\n",
    "\n",
    "Type hints catch errors and make code more readable. For instance, a function signature like `def convert(date)` can be confusing on its own; is the `date` argument a string, a datetime object, or something else? Type hints concisely show us how a program expects to be used.\n",
    "\n",
    "Type hints are at their best catching unexpected return values from functions. For instance, we might have a hole in our logic that results in a function returning `None` (the value returned when we do not explicitly `return` anything) and then later consume that return value but not account for it being `None`. Another way they're immensely helpful is that type checkers _know the types and return values of everything in the standard library_ and most things in imported modules. They check that our understanding of others' code is correct.\n",
    "\n",
    "When I started using type checking, one of the most common warnings I saw on our Django website was a lot of code which looks like `db.objects().last()` where I assumed I had an object but in fact this method can return `None` if no objects have been created in the database yet. Type hints know the expect return values of these `db` methods and catch such errors.\n"
   ]
  },
  {
   "cell_type": "markdown",
   "metadata": {},
   "source": [
    "```py\n",
    "import requests\n",
    "\n",
    "from models import InstagramOAuthToken\n",
    "\n",
    "def get_instagram_post():\n",
    "    # objects.last() returns None if there are no objects in the DB!\n",
    "    OAuthToken = InstagramOAuthToken.objects.last()\n",
    "    # I need an if statement here to check if the token is None\n",
    "    token = OAuthToken.token\n",
    "    response = requests.get(f\"https://graph.instagram.com/me/media?fields=id,caption,media_url&access_token={token}\")\n",
    "```"
   ]
  },
  {
   "cell_type": "markdown",
   "metadata": {},
   "source": [
    "\n",
    "Another common error in my code: the iterator returned by pymarc's `MARCReader` does not always return a `Record` object, sometimes it returns `None` if a record is malformed (we can see this by reading an empty text file):"
   ]
  },
  {
   "cell_type": "markdown",
   "metadata": {},
   "source": [
    "```python\n",
    "from pymarc import MARCReader\n",
    "\n",
    "with open('example.mrc', 'rb') as fh:\n",
    "    reader = MARCReader(fh)\n",
    "    for record in reader:\n",
    "        # record could be None so we need this if condition\n",
    "        if record:\n",
    "            dosomething(record)\n",
    "```"
   ]
  },
  {
   "cell_type": "markdown",
   "metadata": {},
   "source": [
    "\n",
    "\n",
    "## How do they work?\n",
    "\n",
    "Type hints for variables and parameters consistent of a colon `:` followed by the type. Type hints for functions' return values are indicated by an arrow `->`. Types are the same class names we see when we call `type()` on a value, such as `int`, `str`, `list`, `dict`, etc."
   ]
  },
  {
   "cell_type": "code",
   "execution_count": 5,
   "metadata": {},
   "outputs": [
    {
     "name": "stdout",
     "output_type": "stream",
     "text": [
      "Hello, 1!\n"
     ]
    }
   ],
   "source": [
    "from random import randint\n",
    "\n",
    "# basic type hints\n",
    "name: str = \"Eric\"\n",
    "age: int = 87\n",
    "\n",
    "# Python \"knows\" randint returns an int so this works\n",
    "def random_age() -> int:\n",
    "    return randint(0, 100)\n",
    "\n",
    "age = random_age()\n",
    "\n",
    "def greeting(fname: str) -> str:\n",
    "    return f\"Hello, {fname}!\"\n",
    "\n",
    "print(greeting(age)) # warning! age is an int, not a str"
   ]
  },
  {
   "cell_type": "markdown",
   "metadata": {},
   "source": [
    "The above is an excellent example because the `f` string returned by `greeting` actually doesn't care that it has an `int` inside it, it coerces the `int` to a string. So there's no error thrown, but our function wasn't used in the intended way! The type hints are catching something that is technically valid code, which does not raise an exception, but is not what we intended."
   ]
  },
  {
   "cell_type": "markdown",
   "metadata": {},
   "source": [
    "## Lists & Dicts\n",
    "\n",
    "When we annotate something as a list, we can also specify what types of values are in the list. For instance, `List[int]` is a list of integers.\n",
    "\n",
    "When declaring type hints for dicts, we declare the type of the dict's keys and then its values inside brackets with a comma in between. For instance, `Dict[str, int]` is a dictionary where the keys are strings and the values are integers.\n",
    "\n"
   ]
  },
  {
   "cell_type": "code",
   "execution_count": 2,
   "metadata": {},
   "outputs": [],
   "source": [
    "english_numbers: dict[int, str] = {\n",
    "    1: \"one\",\n",
    "    2: \"two\",\n",
    "    3: \"three\",\n",
    "}\n",
    "number_words: list[str] = list(english_numbers.values())"
   ]
  },
  {
   "cell_type": "markdown",
   "metadata": {},
   "source": [
    "What if our type isn't one of the core ones included in the global namespace? We can import classes from modules to use in our type hints. There is also a `typing` module with many important utilities."
   ]
  },
  {
   "cell_type": "code",
   "execution_count": 3,
   "metadata": {},
   "outputs": [
    {
     "data": {
      "text/plain": [
       "os.stat_result(st_mode=33204, st_ino=2413209, st_dev=16777234, st_nlink=1, st_uid=502, st_gid=20, st_size=972986, st_atime=1710467870, st_mtime=1685738676, st_ctime=1701375669)"
      ]
     },
     "execution_count": 3,
     "metadata": {},
     "output_type": "execute_result"
    }
   ],
   "source": [
    "from os import stat, stat_result # stat_result is a specific object structure\n",
    "from pathlib import Path # we are only using Path in our type hint\n",
    "\n",
    "def stat_tmp_doc(doc: Path) -> stat_result:\n",
    "    # The \"/\" operator doesn't work without a Path argument, can't use with 2 strings\n",
    "    doc = \"/tmp\" / doc\n",
    "    return stat(doc)\n",
    "\n",
    "stat_tmp_doc(Path(\"records.mrc\"))"
   ]
  },
  {
   "cell_type": "markdown",
   "metadata": {},
   "source": [
    "## Union types\n",
    "\n",
    "But what if our variable takes on multiple types? It's common for functions that search for some pattern or datum to either return data of a predictable type or, if nothing is found, `None`. We can model this in our type hints with a `Union` type. `Union` can be imported from the `typing` module or, in Python 3.10 and later, we can use the built-in `|` operator."
   ]
  },
  {
   "cell_type": "code",
   "execution_count": 60,
   "metadata": {},
   "outputs": [
    {
     "name": "stdout",
     "output_type": "stream",
     "text": [
      "ZziMCEgfahKczJStzAVA <re.Match object; span=(8, 9), match='a'>\n"
     ]
    }
   ],
   "source": [
    "from random import choices\n",
    "import re\n",
    "import string\n",
    "from typing import Union\n",
    "\n",
    "text: str = ''.join(choices(string.ascii_letters, k=20))\n",
    "# re.search returns either a Match object or None if the pattern isn't found\n",
    "match: Union[re.Match, None] = re.search(r\"a\", text)\n",
    "# Python 3.10+\n",
    "# match: re.Match|None = re.search(r\"a\", text)\n",
    "print(text, match)"
   ]
  },
  {
   "cell_type": "markdown",
   "metadata": {},
   "source": [
    "There's no limit to the number of unions we can have, though at some point it becomes a code \"smell\" that our logic is too complex."
   ]
  },
  {
   "cell_type": "code",
   "execution_count": 99,
   "metadata": {},
   "outputs": [
    {
     "name": "stdout",
     "output_type": "stream",
     "text": [
      "a\n"
     ]
    }
   ],
   "source": [
    "from random import choices\n",
    "import re\n",
    "\n",
    "# function returns none if no matches, matched string if only 1, or number of matches if there are multiple\n",
    "def get_letter_a(text: str) -> str|int|None:\n",
    "    matches: None|list[str] = re.findall(r\"a\", text)\n",
    "    if len(matches) == 1:\n",
    "        return matches[0]\n",
    "    elif len(matches) > 1:\n",
    "        return len(matches)\n",
    "    else:\n",
    "        return None\n",
    "\n",
    "print(get_letter_a(''.join(choices('abcdefgh', k=5))))"
   ]
  },
  {
   "cell_type": "markdown",
   "metadata": {},
   "source": [
    "`typing` also has an `Any` type which might be useful in situations like this or when we are unsure what potential types an external library might return."
   ]
  },
  {
   "cell_type": "code",
   "execution_count": 100,
   "metadata": {},
   "outputs": [
    {
     "name": "stdout",
     "output_type": "stream",
     "text": [
      "<class 'str'>\n"
     ]
    }
   ],
   "source": [
    "from random import choice\n",
    "from typing import Any\n",
    "\n",
    "protean: Any = choice([1, 'a', choice, [], {}, None])\n",
    "print(type(protean))"
   ]
  },
  {
   "cell_type": "markdown",
   "metadata": {},
   "source": [
    "Finally, `typing` has an `Optional` type which means \"the given type or `None`\". So `Optional[int]` is the same as `Union[int, None]`. In practice, typing `int|None` is probably quicker and clearer."
   ]
  },
  {
   "cell_type": "code",
   "execution_count": 79,
   "metadata": {},
   "outputs": [
    {
     "name": "stdout",
     "output_type": "stream",
     "text": [
      "None\n"
     ]
    }
   ],
   "source": [
    "import re\n",
    "from typing import Optional\n",
    "\n",
    "match: Optional[re.Match] = re.search(r\"xyz\", \"abc\")\n",
    "print(match)"
   ]
  },
  {
   "cell_type": "markdown",
   "metadata": {},
   "source": [
    "## Working Around Errors\n",
    "\n",
    "But isn't using `Any` the same as not using type hints at all? True, but this explicitly tells us that the variable's type is unpredictable. If we are working with badly behaved code, whether our own or from external libraries, `Any` annotations can help us work any type errors (perhaps temporarily, until code is improved) while still applying type hints consistently.\n",
    "\n",
    "Most type checkers also provide a means to ignore particular lines of code so we can keep working without being distracted by known errors we're not able to address at the moment. Sometimes the types are in fact _wrong_ for some third-party code. For instance, I wrote some typed code using the `pysftp` module (last updated in 2016) which seems confused about the type of the `log` parameter (it wants it to be boolean but in fact works with an integer or `None`):"
   ]
  },
  {
   "cell_type": "markdown",
   "metadata": {},
   "source": [
    "```python\n",
    "import pysftp\n",
    "\n",
    "# debug is either 1 (int) or None but pysftp thinks it's a boolean\n",
    "with pysftp.Connection(\n",
    "    host=\"sftp.example.com\",\n",
    "    log=debug, # type: ignore\n",
    "    port=22\n",
    ") as sftp:\n",
    "    sftp.put(\"/tmp/text\", \"/home\")\n",
    "```"
   ]
  },
  {
   "cell_type": "markdown",
   "metadata": {},
   "source": [
    "## Literal Values\n",
    "\n",
    "If we know all the specific values a variable can take on, we can use the `Literal` type from the `typing` module. My actual `pyfstp` code defines `debug: Literal[1, None]` and those values come from arguments passed on the command line.\n",
    "\n",
    "There are many scenarios where a specific set of strings provides even more stringent type checking than a `str` type hint."
   ]
  },
  {
   "cell_type": "code",
   "execution_count": 101,
   "metadata": {},
   "outputs": [
    {
     "name": "stdout",
     "output_type": "stream",
     "text": [
      "spring\n"
     ]
    }
   ],
   "source": [
    "from datetime import date\n",
    "from typing import Literal\n",
    "\n",
    "def season(d: date) -> Literal[\"winter\", \"spring\", \"summer\", \"fall\"]:\n",
    "    if d.month in [12, 1, 2]:\n",
    "        return \"winter\"\n",
    "    elif d.month in [3, 4, 5]:\n",
    "        return \"spring\"\n",
    "    elif d.month in [6, 7, 8]:\n",
    "        return \"summer\"\n",
    "    # implies month is in [9, 10, 11]\n",
    "    return \"fall\"\n",
    "\n",
    "print(season(date.today()))"
   ]
  },
  {
   "cell_type": "markdown",
   "metadata": {},
   "source": [
    "## Your Own Classes\n",
    "\n",
    "Have a custom structure which our code uses over and over? Type hints give us a concrete reason to define a class for it. There was a discussion a while back in the python4lib Slack channel about when to start using object-oriented programming and folks felt more comfortable writing functions. That makes perfect sense, but type hints can provide an incentive to create a little more structure and abstract commons patterns from our data."
   ]
  },
  {
   "cell_type": "code",
   "execution_count": null,
   "metadata": {},
   "outputs": [],
   "source": [
    "from datetime import date\n",
    "\n",
    "class Student():\n",
    "    def __init__(self, name: str, grad_date: str|None) -> None:\n",
    "        self.name: str = name\n",
    "        self.graduation_date: date | None = date.fromisoformat(grad_date) if grad_date else None\n",
    "\n",
    "    @property\n",
    "    def is_alumni(self) -> bool:\n",
    "        # can't do this grad date math if it's a string\n",
    "        return self.graduation_date is not None and self.graduation_date < date.today()\n",
    "\n",
    "person = {\n",
    "    \"name\": \"Eric\",\n",
    "    \"graduation_date\": \"2022-05-15\"\n",
    "}\n",
    "\n",
    "# this raises an error because student is a dict, not a Student object with the\n",
    "# is_alumni property calculated from their graduation date\n",
    "if person.is_alumni:\n",
    "    print(f\"ask {person.name} for a donation\")\n",
    "\n",
    "person = Student(**person)\n",
    "\n",
    "if person.is_alumni:\n",
    "    print(f\"ask {person.name} for a donation\") # this works!"
   ]
  }
 ],
 "metadata": {
  "kernelspec": {
   "display_name": ".venv",
   "language": "python",
   "name": "python3"
  },
  "language_info": {
   "codemirror_mode": {
    "name": "ipython",
    "version": 3
   },
   "file_extension": ".py",
   "mimetype": "text/x-python",
   "name": "python",
   "nbconvert_exporter": "python",
   "pygments_lexer": "ipython3",
   "version": "3.12.3"
  }
 },
 "nbformat": 4,
 "nbformat_minor": 2
}
