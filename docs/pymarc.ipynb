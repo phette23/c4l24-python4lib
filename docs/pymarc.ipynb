{
 "cells": [
  {
   "cell_type": "markdown",
   "metadata": {},
   "source": [
    "# Pymarc Patterns\n",
    "\n",
    "[Pymarc Documentation](https://pymarc.readthedocs.io/en/latest/)\n",
    "\n",
    "This notebook covers common patterns for working with MARC records in Python. It will start with the very basics like getting fields and move into more complex examples.\n",
    "\n",
    "The example records come from [Harvard's bibliographic records](https://archive.org/download/harvard_bibliographic_metadata) on the Internet Archive."
   ]
  },
  {
   "cell_type": "markdown",
   "metadata": {},
   "source": [
    "## Reading Records from Files\n",
    "\n",
    "Use the `MARCReader` class to read records from a file, it accepts an open file handle and returns an iterator of `Record` objects. Make sure each record is not `None` when iterating."
   ]
  },
  {
   "cell_type": "code",
   "execution_count": 14,
   "metadata": {},
   "outputs": [
    {
     "name": "stdout",
     "output_type": "stream",
     "text": [
      "Got record: Photographs of Venetian villas\n"
     ]
    }
   ],
   "source": [
    "from pymarc import MARCReader\n",
    "\n",
    "with open('assets/example.mrc', 'rb') as fh:\n",
    "    reader = MARCReader(fh)\n",
    "    for record in reader:\n",
    "        if record:\n",
    "            print(\"Got record:\", record.title.rstrip(' /'))\n",
    "            # save this global variable for use in later code blocks\n",
    "            global venetian\n",
    "            venetian = record\n",
    "        else:\n",
    "            print(\"No record found.\")"
   ]
  },
  {
   "cell_type": "markdown",
   "metadata": {},
   "source": [
    "Note that the file is opened in read-binary mode (`rb`). Read mode is sufficient because we are not modifying the file. We use binary mode because Pymarc will handle decoding strings in records, we don't want Python to do it. Try deleting the `b` in `rb`—what happens? What would happen if we didn't have an `if record` condition?\n",
    "\n",
    "There are several gotchas you can run into with encoding issues. The [`MARCReader`](https://pymarc.readthedocs.io/en/latest/#pymarc.reader.MARCReader) class has a `to_unicode` parameter to return UTF-8 strings as well as a `force_utf8` parameter which coerces the data to UTF-8 (useful if you have records with inaccurate encodings). These parameters seemed to be more commonly needed under Python 2 where it was more work to manage string encodings.\n",
    "\n"
   ]
  },
  {
   "cell_type": "markdown",
   "metadata": {},
   "source": [
    "## Simple Ways to View Record Data\n",
    "\n",
    "Pymarc comes with convenience properties for accessing common MARC fields on a record:\n",
    "\n",
    "- `record.title`\n",
    "- `record.author`\n",
    "- `record.isbn`\n",
    "- `record.publisher`\n",
    "- `record.pubyear`\n",
    "\n",
    "Also, if you print a record, its string representation is the \"mnemonic marc\" format, which is a human-readable version of the MARC data."
   ]
  },
  {
   "cell_type": "code",
   "execution_count": 18,
   "metadata": {},
   "outputs": [
    {
     "name": "stdout",
     "output_type": "stream",
     "text": [
      "Title: Photographs of Venetian villas /\n",
      "Author: None\n",
      "ISBN: None\n",
      "Publisher: The Institute,\n",
      "Year: 1954.\n",
      "=LDR  00774nam a22002057u 4500\n",
      "=001  000000010-8\n",
      "=005  20020606090541.3\n",
      "=008  821202|1954\\\\\\\\|||||||\\\\||||\\|0||||eng|d\n",
      "=035  0\\$aocm78684367\n",
      "=245  00$aPhotographs of Venetian villas /$cRoyal Institute of British Architects ; detailed information compiled by Giuseppe Mazzotti.\n",
      "=246  3\\$aVenetian villas.\n",
      "=260  0\\$aLondon, England :$bThe Institute,$c1954.\n",
      "=300  \\\\$a39 p. ;$c21 cm.\n",
      "=500  \\\\$aCover title : Venetian villas.\n",
      "=500  \\\\$aCatalogue of an exhibition held at Royal Institute of British Architects, Feb. 25-Mar. 27, 1954.\n",
      "=650  \\0$aArchitecture, Domestic$zItaly$zVenice.\n",
      "=700  1\\$aMazzotti, Giuseppe.\n",
      "=710  2\\$aRoyal Institute of British Architects.\n",
      "=988  \\\\$a20020608\n",
      "=906  \\\\$0MH\n",
      "\n"
     ]
    }
   ],
   "source": [
    "print('Title:', venetian.title)\n",
    "print('Author:', venetian.author)\n",
    "print('ISBN:', venetian.isbn)\n",
    "print('Publisher:', venetian.publisher)\n",
    "print('Year:', venetian.pubyear)\n",
    "print(venetian)"
   ]
  },
  {
   "cell_type": "markdown",
   "metadata": {},
   "source": [
    "As you can see, the properties are set to `None` if they do not exist, like the ISBN in our example.\n",
    "\n",
    "For serious work with records, **you should not use these convenience properties**. They only return the first instance of a field and certain subfields. They are useful for quick peaks at data, but not functional for most purposes. Instead, we will typically use the `get_fields()` method and iterate over all existing fields. There are also `record.subjects` and `record.notes` properties which return lists of actual `Field` objects and these are more useful."
   ]
  },
  {
   "cell_type": "markdown",
   "metadata": {},
   "source": [
    "## Modifying & Writing Records\n",
    "\n",
    "The basic steps to modify MARC records with Pymarc are:\n",
    "\n",
    "- Read the records in with `MARCReader`\n",
    "- Modify them in place—you can simply assign values to fields and subfields\n",
    "- Write the records out with `MARCWriter`\n",
    "\n",
    "Below, we prefix the example record's title field with \"Great\"."
   ]
  },
  {
   "cell_type": "code",
   "execution_count": 21,
   "metadata": {},
   "outputs": [
    {
     "name": "stdout",
     "output_type": "stream",
     "text": [
      "Great Photographs of Venetian villas\n"
     ]
    }
   ],
   "source": [
    "from pymarc import MARCReader, MARCWriter\n",
    "\n",
    "with open('assets/example.mrc', 'rb') as fh:\n",
    "    reader = MARCReader(fh)\n",
    "    with open('assets/great.mrc', 'wb') as out:\n",
    "        writer = MARCWriter(out)\n",
    "        for record in reader:\n",
    "            if record:\n",
    "                record[\"245\"][\"a\"] = f'Great {record[\"245\"][\"a\"]}'\n",
    "                writer.write(record)\n",
    "                print(record.title.rstrip(' /'))"
   ]
  }
 ],
 "metadata": {
  "kernelspec": {
   "display_name": ".venv",
   "language": "python",
   "name": "python3"
  },
  "language_info": {
   "codemirror_mode": {
    "name": "ipython",
    "version": 3
   },
   "file_extension": ".py",
   "mimetype": "text/x-python",
   "name": "python",
   "nbconvert_exporter": "python",
   "pygments_lexer": "ipython3",
   "version": "3.12.3"
  }
 },
 "nbformat": 4,
 "nbformat_minor": 2
}
