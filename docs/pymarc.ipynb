{
 "cells": [
  {
   "cell_type": "markdown",
   "metadata": {},
   "source": [
    "# Pymarc Patterns\n",
    "\n",
    "[Pymarc Documentation](https://pymarc.readthedocs.io/en/latest/)\n",
    "\n",
    "This notebook covers common patterns for working with MARC records in Python. It starts with the basics like getting fields and moves into more complex examples. It uses the latest version of Pymarc as of this writing (5.1.2). There were two fairly major changes from 4.x, both of which I mention when relevant.\n",
    "\n",
    "The example records come from [Harvard's bibliographic records](https://archive.org/download/harvard_bibliographic_metadata) on the Internet Archive. There are in the docs/assets directory."
   ]
  },
  {
   "cell_type": "markdown",
   "metadata": {},
   "source": [
    "## Reading Records from Files\n",
    "\n",
    "Use the `MARCReader` class to read records from a file, it accepts an open file handle and returns an iterator of `Record` objects. Make sure each record is not `None` when iterating."
   ]
  },
  {
   "cell_type": "code",
   "execution_count": 1,
   "metadata": {},
   "outputs": [
    {
     "name": "stdout",
     "output_type": "stream",
     "text": [
      "Got record: Photographs of Venetian villas /\n"
     ]
    }
   ],
   "source": [
    "from pathlib import Path\n",
    "from pymarc import MARCReader\n",
    "\n",
    "with open(Path('assets', 'example.mrc'), 'rb') as fh:\n",
    "    reader = MARCReader(fh)\n",
    "    for record in reader:\n",
    "        if record:\n",
    "            print(\"Got record:\", record.title)\n",
    "            # save this global variable for use in later code blocks\n",
    "            global venetian\n",
    "            venetian = record\n",
    "        else:\n",
    "            print(\"No record found.\")"
   ]
  },
  {
   "cell_type": "markdown",
   "metadata": {},
   "source": [
    "Note that the file is opened in read-binary mode (`rb`). Read mode is sufficient because we are not modifying the file. We use binary mode because Pymarc will handle decoding strings in records, we don't want Python to do it. Try deleting the `b` in `rb`—what happens? What would happen if we didn't have an `if record` condition?\n",
    "\n",
    "There are several gotchas we can run into with encoding issues. The [`MARCReader`](https://pymarc.readthedocs.io/en/latest/#pymarc.reader.MARCReader) class has a `to_unicode` parameter to return UTF-8 strings as well as a `force_utf8` parameter which coerces the data to UTF-8 (useful if we have records with inaccurate encodings). These parameters were more commonly needed under Python 2 and Pymarc 4. In all my recent scripts, I have not needed them. Sometimes life does get easier!\n",
    "\n"
   ]
  },
  {
   "cell_type": "markdown",
   "metadata": {},
   "source": [
    "## Simple Ways to View Record Data\n",
    "\n",
    "Pymarc comes with convenience properties for accessing common MARC fields on a record:\n",
    "\n",
    "- `record.title`\n",
    "- `record.author`\n",
    "- `record.isbn` and `record.issn`\n",
    "- `record.publisher`\n",
    "- `record.pubyear`\n",
    "\n",
    "**Pymarc 4.x Note**: prior to version 5, these properties were methods; looked like `record.title()` instead.\n",
    "\n",
    "Also, if we print a record, its string representation is the \"mnemonic marc\" format, which is a human-readable version of the MARC data where each field is printed on a new line with its tag, indicators, and subfields visible."
   ]
  },
  {
   "cell_type": "code",
   "execution_count": 34,
   "metadata": {},
   "outputs": [
    {
     "name": "stdout",
     "output_type": "stream",
     "text": [
      "Title: Photographs of Venetian villas /\n",
      "Author: None\n",
      "Publisher: The Institute,\n",
      "Year: 1954.\n",
      "=LDR  00774nam a22002057u 4500\n",
      "=001  000000010-8\n",
      "=005  20020606090541.3\n",
      "=008  821202|1954\\\\\\\\|||||||\\\\||||\\|0||||eng|d\n",
      "=035  0\\$aocm78684367\n",
      "=245  00$aPhotographs of Venetian villas /$cRoyal Institute of British Architects ; detailed information compiled by Giuseppe Mazzotti.\n",
      "=246  3\\$aVenetian villas.\n",
      "=260  0\\$aLondon, England :$bThe Institute,$c1954.\n",
      "=300  \\\\$a39 p. ;$c21 cm.\n",
      "=500  \\\\$aCover title : Venetian villas.\n",
      "=500  \\\\$aCatalogue of an exhibition held at Royal Institute of British Architects, Feb. 25-Mar. 27, 1954.\n",
      "=650  \\0$aArchitecture, Domestic$zItaly$zVenice.\n",
      "=700  1\\$aMazzotti, Giuseppe.\n",
      "=710  2\\$aRoyal Institute of British Architects.\n",
      "=988  \\\\$a20020608\n",
      "=906  \\\\$0MH\n",
      "\n"
     ]
    }
   ],
   "source": [
    "print('Title:', venetian.title)\n",
    "print('Author:', venetian.author) # properties are None if there are no matching fields\n",
    "print('Publisher:', venetian.publisher)\n",
    "print('Year:', venetian.pubyear)\n",
    "print(venetian)"
   ]
  },
  {
   "cell_type": "markdown",
   "metadata": {},
   "source": [
    "As we can see, the properties are `None` if they do not exist, like the Author in our example. What will `record.isbn` return?\n",
    "\n",
    "For serious work with records, **do not use these convenience properties**. They only find the first instance of a field and return the text of certain subfields. They are useful for quick peaks at data, but not functional for most purposes. Instead, we will typically use the `get_fields()` method and iterate over all existing fields.\n",
    "\n",
    "There are also `record.series`, `record.subjects`, `record.physicaldescription` (all 300 fields), and `record.notes` (all 5XX fields) properties. Since these return a list of actual `Field` objects, they are more useful, though we should be careful that they're using the MARC fields we care about."
   ]
  },
  {
   "cell_type": "markdown",
   "metadata": {},
   "source": [
    "## Writing Records\n",
    "\n",
    "The basic steps to modify MARC records with Pymarc are:\n",
    "\n",
    "- Read the records in with `MARCReader`\n",
    "- Modify them in place—assign values to fields and subfields\n",
    "- Write the records out with `MARCWriter`\n",
    "\n",
    "Below, we prefix the example record's title `$a` subfield with \"Great\"."
   ]
  },
  {
   "cell_type": "code",
   "execution_count": 21,
   "metadata": {},
   "outputs": [
    {
     "name": "stdout",
     "output_type": "stream",
     "text": [
      "Great Photographs of Venetian villas\n"
     ]
    }
   ],
   "source": [
    "from pymarc import MARCReader, MARCWriter\n",
    "\n",
    "with open('assets/example.mrc', 'rb') as fh:\n",
    "    reader = MARCReader(fh)\n",
    "    with open('assets/great.mrc', 'wb') as out:\n",
    "        writer = MARCWriter(out)\n",
    "        for record in reader:\n",
    "            if record:\n",
    "                record[\"245\"][\"a\"] = f'Great {record[\"245\"][\"a\"]}'\n",
    "                writer.write(record)\n",
    "                print(record.title)"
   ]
  },
  {
   "cell_type": "markdown",
   "metadata": {},
   "source": [
    "## Getting Fields\n",
    "\n",
    "Pymarc's [Record](https://pymarc.readthedocs.io/en/latest/index.html#module-pymarc.record) object provides three better ways to retrieve fields other than the convenience properties:\n",
    "\n",
    "- `get` which is like `dict`'s `get` method in that it lets us define a default value if the field doesn't exist\n",
    "- `get_fields` which returns a list of fields with a given tag\n",
    "- bracket notation, which returns the first field with a given tag\n",
    "\n",
    "In general, `get_fields` is probably the most foolproof method.\n",
    "\n",
    "For all methods, field names are strings, not numbers. Fields that begin with a 0, like 020, would be awkward otherwise. We will talk more about `Field` objects later but below we must use the `value()` method to return a string representations of fields."
   ]
  },
  {
   "cell_type": "code",
   "execution_count": 2,
   "metadata": {},
   "outputs": [
    {
     "name": "stdout",
     "output_type": "stream",
     "text": [
      "130 or, if not present, 245: Photographs of Venetian villas / Royal Institute of British Architects ; detailed information compiled by Giuseppe Mazzotti.\n",
      "\n",
      "500 fields:\n",
      "Cover title : Venetian villas.\n",
      "Catalogue of an exhibition held at Royal Institute of British Architects, Feb. 25-Mar. 27, 1954.\n",
      "\n",
      "All 2XX fields:\n",
      "Photographs of Venetian villas / Royal Institute of British Architects ; detailed information compiled by Giuseppe Mazzotti.\n",
      "Venetian villas.\n",
      "London, England : The Institute, 1954.\n",
      "\n",
      "First 500: Cover title : Venetian villas.\n",
      "\n",
      "KeyError from accessing a non-existent field\n"
     ]
    }
   ],
   "source": [
    "# record.get(field, default)\n",
    "# if we can't find a uniform title in 130 return 245\n",
    "title = venetian.get('130', venetian['245'])\n",
    "print('130 or, if not present, 245:', title.value())\n",
    "\n",
    "# record.get_fields(field) -> list[Field]\n",
    "print('\\n500 fields:')\n",
    "for field in venetian.get_fields('500'):\n",
    "    print(field.value())\n",
    "\n",
    "# we can pass multiple fields to get a list of all of them\n",
    "print('\\nAll 2XX fields:')\n",
    "for field in venetian.get_fields('245', '246', '260'):\n",
    "    print(field.value())\n",
    "# we could pass a list & use * to unpack it, too:\n",
    "# venetian.get_fields(*['245', '246', '260'])\n",
    "# or actually ALL 2XX fields using `range`:\n",
    "# venetian.get_fields(*[str(i) for i in range(200, 300)])\n",
    "\n",
    "# though there are two 500s fields, bracket notation only returns the first one\n",
    "print('\\nFirst 500:', venetian['500'].value())\n",
    "\n",
    "# if we try to access a field that doesn't exist, we get a KeyError\n",
    "# this is why I do not recommend bracket notation\n",
    "try:\n",
    "    print(venetian['999'])\n",
    "except KeyError as e:\n",
    "    print(\"\\nKeyError from accessing a non-existent field\")"
   ]
  },
  {
   "cell_type": "markdown",
   "metadata": {},
   "source": [
    "Because bracket notation throws errors if the field doesn't exist, and only returns the first instance of a field, it's not very useful. It seems like a rare scenario to have a default field value handy for use with `get`. In general, using `get_fields` with for-in loops (which will simply not execute if there are no matching fields) is the most foolproof way to access record fields."
   ]
  },
  {
   "cell_type": "markdown",
   "metadata": {},
   "source": [
    "## Field Objects\n",
    "\n",
    "Pymarc has a [Field](https://pymarc.readthedocs.io/en/latest/#module-pymarc.field) object for representing MARC fields, the `get_fields` method returns a list of these objects, not strings."
   ]
  },
  {
   "cell_type": "code",
   "execution_count": 23,
   "metadata": {},
   "outputs": [
    {
     "name": "stdout",
     "output_type": "stream",
     "text": [
      "Tag: 245\n",
      "Subfield A: Photographs of Venetian villas\n",
      "Subfield B with fallback: Remainder of title\n",
      "Architecture, Domestic -- Italy -- Venice. versus Architecture, Domestic Italy Venice.\n"
     ]
    }
   ],
   "source": [
    "field = venetian['245']\n",
    "print('Tag:', field.tag)\n",
    "# Fields support bracket notation just like Records do for Fields\n",
    "# with the same caveat: we get a KeyError for non-existent subfields\n",
    "print('Subfield A:', field['a'].rstrip(' /'))\n",
    "print('Subfield B with fallback:', field.get('b', 'Remainder of title')) # dict-like get for a specific subfield with fallback value\n",
    "\n",
    "# format_field() applies extra formatting for subject fields while value() returns all subfield values concatenated\n",
    "print(venetian.subjects[0].format_field(), 'versus', venetian.subjects[0].value())"
   ]
  },
  {
   "cell_type": "markdown",
   "metadata": {},
   "source": [
    "There are several ways to get sets of subfields:\n",
    "\n",
    "- `get_subfields()` returns a list of subfield _values_ for the codes we pass in\n",
    "- `subfields` is a property that's a list of actual Subfield objects which each have `code` and `value` properties\n",
    "- `subfields_as_dict()` returns a dictionary of subfield codes and values, but because subfields can be repeated the values are a _list_ of strings"
   ]
  },
  {
   "cell_type": "code",
   "execution_count": 24,
   "metadata": {},
   "outputs": [
    {
     "name": "stdout",
     "output_type": "stream",
     "text": [
      "['Photographs of Venetian villas /', 'Royal Institute of British Architects ; detailed information compiled by Giuseppe Mazzotti.']\n",
      "[Subfield(code='a', value='Photographs of Venetian villas /'), Subfield(code='c', value='Royal Institute of British Architects ; detailed information compiled by Giuseppe Mazzotti.')]\n",
      "{'a': ['Photographs of Venetian villas /'], 'c': ['Royal Institute of British Architects ; detailed information compiled by Giuseppe Mazzotti.']}\n"
     ]
    }
   ],
   "source": [
    "print(field.get_subfields('a', 'b', 'c')) # get list of values of specific subfields\n",
    "print(field.subfields) # get all subfields as objects\n",
    "print(field.subfields_as_dict()) # dict of {subfield code: [subfield values]}"
   ]
  },
  {
   "cell_type": "markdown",
   "metadata": {},
   "source": [
    "The most appropriate subfield method depends on our use case."
   ]
  },
  {
   "cell_type": "markdown",
   "metadata": {},
   "source": [
    "## Modifying Fields\n",
    "\n",
    "Record's `add_field` method lets us add a field but we need to construct it using the Field class. We can also append to the `fields` list. Both methods add the field _to the end of the record_ in case we care about field order, which I will mostly not discuss here.\n",
    "\n",
    "**Pymarc 4.x Note**: prior to version 5, the `Field` objects `subfields` argument was a list of strings which alternated between subfield codes and values e.g. `['a', 'Title', 'C', 'Responsibility']`. It's now a list of `Subfield` objects."
   ]
  },
  {
   "cell_type": "code",
   "execution_count": 39,
   "metadata": {},
   "outputs": [
    {
     "name": "stdout",
     "output_type": "stream",
     "text": [
      "Number of subjects before: 3\n",
      "Number of subjects after: 4\n",
      "Number of subjects after append: 5\n"
     ]
    }
   ],
   "source": [
    "from pymarc import Field, Subfield\n",
    "\n",
    "# adding a subject heading to the record\n",
    "print('Number of subjects before:', len(venetian.subjects))\n",
    "subject = Field(tag='650', indicators=[' ', '0'], subfields=[\n",
    "    Subfield(code='a', value='Venice (Italy)'),\n",
    "    Subfield(code='v', value='Non-fiction.'),\n",
    "])\n",
    "venetian.add_field(subject)\n",
    "print('Number of subjects after:', len(venetian.subjects))\n",
    "# we can also append directly to the Record.fields list\n",
    "venetian.fields.append(subject)\n",
    "print('Number of subjects after append:', len(venetian.subjects))"
   ]
  },
  {
   "cell_type": "markdown",
   "metadata": {},
   "source": [
    "There are two ways to remove fields which differ in how they reference fields. The most useful method is `remove_field` which removes all `Field` objects passed to it. It can target specific fields, e.g. the second of three subjects.\n",
    "\n",
    "The `remove_fields` method removes all fields with the given tags. It's more concise in situation where we want to remove _all_ of a particular field without caring about values.\n",
    "\n",
    "These methods return `None`, they do not return the removed field(s)."
   ]
  },
  {
   "cell_type": "code",
   "execution_count": 26,
   "metadata": {},
   "outputs": [
    {
     "name": "stdout",
     "output_type": "stream",
     "text": [
      "Number of subjects after removal: 1\n"
     ]
    }
   ],
   "source": [
    "# remove all 906 fields\n",
    "venetian.remove_fields('906')\n",
    "# remove only subject fields with the 'Venice (Italy)' value we added earlier\n",
    "for subject_field in venetian.subjects:\n",
    "    if 'Venice (Italy)' in subject_field.value():\n",
    "        venetian.remove_field(subject_field)\n",
    "print('Number of subjects after removal:', len(venetian.subjects))"
   ]
  },
  {
   "cell_type": "markdown",
   "metadata": {},
   "source": [
    "We can modify a field directly wherever one is returned by a `Record` method or property, for instance by interacting with the `fields` list, but it can be difficult to get the field we want. Remember that the convenience properties like `record.isbn` are read-only _strings_ so code like `record.isbn.subfields.append('z', 'new subfield')` throws an error. `record['020'].subfields.append('z', 'new subfield')` works but will throw an error on records lacking an 020 field.\n",
    "\n",
    "A more common pattern is to iterate over `get_fields`, create a modified copy of the field, `remove_field` the original, and `add_field` the modified one."
   ]
  },
  {
   "cell_type": "code",
   "execution_count": 27,
   "metadata": {},
   "outputs": [
    {
     "name": "stdout",
     "output_type": "stream",
     "text": [
      "=988  \\\\$a20020608$zAdditional subfield\n",
      "=245  00$aPhotographs of Sicilian villas /$cRoyal Institute of British Architects ; detailed information compiled by Giuseppe Mazzotti.\n"
     ]
    }
   ],
   "source": [
    "# add a subfield to the last field\n",
    "# generally would not recommend this method of modifying Records.fields entries directly\n",
    "venetian.fields[-1].subfields.append(Subfield(code='z', value='Additional subfield'))\n",
    "print(venetian.fields[-1])\n",
    "\n",
    "# safer and more generally useful way to moidfy a field\n",
    "for field in venetian.get_fields('245'):\n",
    "    if 'Venetian' in field.value():\n",
    "        new_title = field\n",
    "        new_title['a'] = new_title['a'].replace('Venetian', 'Sicilian')\n",
    "        venetian.remove_field(field)\n",
    "        venetian.add_field(new_title)\n",
    "print(venetian['245'])\n"
   ]
  },
  {
   "cell_type": "markdown",
   "metadata": {},
   "source": [
    "Like `add_field`, `add_subfield` adds a subfield _onto the end_ of the field by default, but accepts a `pos` parameter for which position the subfield should be inserted into. If we care about subfield order, which tends to affect record display much more than field order, we have to be deliberate in constructing the modified field."
   ]
  },
  {
   "cell_type": "code",
   "execution_count": 28,
   "metadata": {},
   "outputs": [
    {
     "name": "stdout",
     "output_type": "stream",
     "text": [
      "=245  00$aPhotographs of Sicilian villas /$bSubtitle $cRoyal Institute of British Architects ; detailed information compiled by Giuseppe Mazzotti.\n"
     ]
    }
   ],
   "source": [
    "# adding a subfield in a specific position\n",
    "new_title = venetian['245']\n",
    "new_title.add_subfield(code='b', value='Subtitle ', pos=1)\n",
    "# this also works:\n",
    "# new_title.subfields.insert(1, Subfield('b', 'Subtitle '))\n",
    "print(new_title)"
   ]
  },
  {
   "cell_type": "markdown",
   "metadata": {},
   "source": [
    "We could also add the subfield and then sort the field's subfields list, because we might not be able to determine the position of a new subfield without knowing the structure of the entire field. This works well for a `245` with `a`, `b`, and `c` subfields but as soon as there are other subfields (`h` for Medium/GMD for instance, which does not go in alphabetical order) it breaks down."
   ]
  },
  {
   "cell_type": "code",
   "execution_count": 40,
   "metadata": {},
   "outputs": [
    {
     "name": "stdout",
     "output_type": "stream",
     "text": [
      "=245  00$aTitle /$cResponsibility\n",
      "=245  00$aTitle /$bSubtitle$cResponsibility\n"
     ]
    }
   ],
   "source": [
    "title = Field(tag='245', indicators=['0', '0'], subfields=[Subfield('a', 'Title /'), Subfield('c', 'Responsibility')])\n",
    "print(title)\n",
    "title.subfields.append(Subfield('b', 'Subtitle'))\n",
    "title.subfields.sort(key=lambda sf: sf.code) # sort subfields alphabetically by code\n",
    "print(title)"
   ]
  },
  {
   "cell_type": "markdown",
   "metadata": {},
   "source": [
    "We can see this still isn't great because adding a subtitle actually should change the `a` subfield (to end in a colon and not a forward slash `$aTitle : $bSubtitle /`). Basically, the point is that subfield lists are tricky and require a lot of forethought to get right with records of varying structure. If we know the structure of our records, we can be more confident in our manipulations. We can, of course, use some of the `get`-type methods to confirm our assumptions first, such as \"our 245 fields only have these subfields\", \"records only have one 856 field\", etc.\n",
    "\n",
    "We also delete subfields with, you guessed it, `delete_subfield`. It returns _the value of the subfield_ (not a subfield object!!) or `None` if there was no subfield with the provided code."
   ]
  },
  {
   "cell_type": "code",
   "execution_count": 31,
   "metadata": {},
   "outputs": [
    {
     "name": "stdout",
     "output_type": "stream",
     "text": [
      "Title with no c subfield: =245  00$aTitle / | C subfield value: None\n",
      "Title with only $a subfield: =245  00\n"
     ]
    }
   ],
   "source": [
    "responsibility = title.delete_subfield('c')\n",
    "print('Title with no c subfield:', title, '| C subfield value:', responsibility)\n",
    "# this also works, to remove the last subfield (can provide a specific position to pop() method, too)\n",
    "title.subfields.pop()\n",
    "print('Title with only $a subfield:', title)"
   ]
  },
  {
   "cell_type": "markdown",
   "metadata": {},
   "source": [
    "## Conclusion\n",
    "\n",
    "Pymarc provides a number of ways of accessing record data, but the quickest, most convenient ways (convenience properties, bracket notation) tend to be the most error prone, especially when record structures vary or are unknown. We usually want to use methods that return lists of the fields and subfields we are interested in and iterate over these lists, which naturally works around absent data.\n",
    "\n",
    "We've seen that Pymarc let's us operate on fields/subfields either with its own specific object methods or by interacting with list properties on their parent objects. In general, the object methods are preferable and more targeted, but sometimes the lists are useful when we care about order (e.g. \"delete last field/subfield\")."
   ]
  }
 ],
 "metadata": {
  "kernelspec": {
   "display_name": ".venv",
   "language": "python",
   "name": "python3"
  },
  "language_info": {
   "codemirror_mode": {
    "name": "ipython",
    "version": 3
   },
   "file_extension": ".py",
   "mimetype": "text/x-python",
   "name": "python",
   "nbconvert_exporter": "python",
   "pygments_lexer": "ipython3",
   "version": "3.12.3"
  }
 },
 "nbformat": 4,
 "nbformat_minor": 2
}
