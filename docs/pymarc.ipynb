{
 "cells": [
  {
   "cell_type": "markdown",
   "metadata": {},
   "source": [
    "# Pymarc Patterns\n",
    "\n",
    "[Pymarc Documentation](https://pymarc.readthedocs.io/en/latest/)\n",
    "\n",
    "This notebook covers common patterns for working with MARC records in Python. It will start with the very basics like getting fields and move into more complex examples.\n",
    "\n",
    "The example records come from [Harvard's bibliographic records](https://archive.org/download/harvard_bibliographic_metadata) on the Internet Archive."
   ]
  },
  {
   "cell_type": "markdown",
   "metadata": {},
   "source": [
    "## Reading Records from Files\n",
    "\n",
    "Use the `MARCReader` class to read records from a file, it accepts an open file handle and returns an iterator of `Record` objects. Make sure each record is not `None` when iterating."
   ]
  },
  {
   "cell_type": "code",
   "execution_count": 14,
   "metadata": {},
   "outputs": [
    {
     "name": "stdout",
     "output_type": "stream",
     "text": [
      "Got record: Photographs of Venetian villas\n"
     ]
    }
   ],
   "source": [
    "from pymarc import MARCReader\n",
    "\n",
    "with open('assets/example.mrc', 'rb') as fh:\n",
    "    reader = MARCReader(fh)\n",
    "    for record in reader:\n",
    "        if record:\n",
    "            print(\"Got record:\", record.title.rstrip(' /'))\n",
    "            # save this global variable for use in later code blocks\n",
    "            global venetian\n",
    "            venetian = record\n",
    "        else:\n",
    "            print(\"No record found.\")"
   ]
  },
  {
   "cell_type": "markdown",
   "metadata": {},
   "source": [
    "Note that the file is opened in read-binary mode (`rb`). Read mode is sufficient because we are not modifying the file. We use binary mode because Pymarc will handle decoding strings in records, we don't want Python to do it. Try deleting the `b` in `rb`—what happens? What would happen if we didn't have an `if record` condition?\n",
    "\n",
    "There are several gotchas you can run into with encoding issues. The [`MARCReader`](https://pymarc.readthedocs.io/en/latest/#pymarc.reader.MARCReader) class has a `to_unicode` parameter to return UTF-8 strings as well as a `force_utf8` parameter which coerces the data to UTF-8 (useful if you have records with inaccurate encodings). These parameters seemed to be more commonly needed under Python 2 where it was more work to manage string encodings.\n",
    "\n"
   ]
  },
  {
   "cell_type": "markdown",
   "metadata": {},
   "source": [
    "## Simple Ways to View Record Data\n",
    "\n",
    "Pymarc comes with convenience properties for accessing common MARC fields on a record:\n",
    "\n",
    "- `record.title`\n",
    "- `record.author`\n",
    "- `record.isbn` and `record.issn`\n",
    "- `record.publisher`\n",
    "- `record.pubyear`\n",
    "\n",
    "Also, if you print a record, its string representation is the \"mnemonic marc\" format, which is a human-readable version of the MARC data where each field is printed on a new line with its tag, indicators, and subfields visible."
   ]
  },
  {
   "cell_type": "code",
   "execution_count": 18,
   "metadata": {},
   "outputs": [
    {
     "name": "stdout",
     "output_type": "stream",
     "text": [
      "Title: Photographs of Venetian villas /\n",
      "Author: None\n",
      "ISBN: None\n",
      "Publisher: The Institute,\n",
      "Year: 1954.\n",
      "=LDR  00774nam a22002057u 4500\n",
      "=001  000000010-8\n",
      "=005  20020606090541.3\n",
      "=008  821202|1954\\\\\\\\|||||||\\\\||||\\|0||||eng|d\n",
      "=035  0\\$aocm78684367\n",
      "=245  00$aPhotographs of Venetian villas /$cRoyal Institute of British Architects ; detailed information compiled by Giuseppe Mazzotti.\n",
      "=246  3\\$aVenetian villas.\n",
      "=260  0\\$aLondon, England :$bThe Institute,$c1954.\n",
      "=300  \\\\$a39 p. ;$c21 cm.\n",
      "=500  \\\\$aCover title : Venetian villas.\n",
      "=500  \\\\$aCatalogue of an exhibition held at Royal Institute of British Architects, Feb. 25-Mar. 27, 1954.\n",
      "=650  \\0$aArchitecture, Domestic$zItaly$zVenice.\n",
      "=700  1\\$aMazzotti, Giuseppe.\n",
      "=710  2\\$aRoyal Institute of British Architects.\n",
      "=988  \\\\$a20020608\n",
      "=906  \\\\$0MH\n",
      "\n"
     ]
    }
   ],
   "source": [
    "print('Title:', venetian.title)\n",
    "print('Author:', venetian.author)\n",
    "print('ISBN:', venetian.isbn)\n",
    "print('Publisher:', venetian.publisher)\n",
    "print('Year:', venetian.pubyear)\n",
    "print(venetian)"
   ]
  },
  {
   "cell_type": "markdown",
   "metadata": {},
   "source": [
    "As you can see, the properties are set to `None` if they do not exist, like the ISBN in our example.\n",
    "\n",
    "For serious work with records, **you should not use these convenience properties**. They only find the first instance of a field and return the text of certain subfields. They are useful for quick peaks at data, but not functional for most purposes. Instead, we will typically use the `get_fields()` method and iterate over all existing fields. There are also `record.series`, `record.subjects`, `record.physicaldescription` (all 300 fields), and `record.notes` (all 5XX fields) properties. Since these return a list of actual `Field` objects, they are more useful, though we should be careful that they're using the MARC fields we care about."
   ]
  },
  {
   "cell_type": "markdown",
   "metadata": {},
   "source": [
    "## Writing Records\n",
    "\n",
    "The basic steps to modify MARC records with Pymarc are:\n",
    "\n",
    "- Read the records in with `MARCReader`\n",
    "- Modify them in place—you can simply assign values to fields and subfields\n",
    "- Write the records out with `MARCWriter`\n",
    "\n",
    "Below, we prefix the example record's title field with \"Great\"."
   ]
  },
  {
   "cell_type": "code",
   "execution_count": 26,
   "metadata": {},
   "outputs": [
    {
     "name": "stdout",
     "output_type": "stream",
     "text": [
      "Great Photographs of Venetian villas\n"
     ]
    }
   ],
   "source": [
    "from pymarc import MARCReader, MARCWriter\n",
    "\n",
    "with open('assets/example.mrc', 'rb') as fh:\n",
    "    reader = MARCReader(fh)\n",
    "    with open('assets/great.mrc', 'wb') as out:\n",
    "        writer = MARCWriter(out)\n",
    "        for record in reader:\n",
    "            if record:\n",
    "                record[\"245\"][\"a\"] = f'Great {record[\"245\"][\"a\"]}'\n",
    "                writer.write(record)\n",
    "                print(record.title.rstrip(' /'))"
   ]
  },
  {
   "cell_type": "markdown",
   "metadata": {},
   "source": [
    "## Viewing Fields\n",
    "\n",
    "There are three better ways to retrieve fields from a record than the convenience properties:\n",
    "\n",
    "- `get` which is like `dict`'s `get` method in that it lets you define a default value if the field doesn't exist\n",
    "- `get_fields` which returns a list of fields with a given tag\n",
    "- bracket notation, which returns the first field with a given tag\n",
    "\n",
    "In general, `get_fields` is probably the most foolproof method.\n",
    "\n",
    "For all methods, field names are strings, not numbers. Fields that begin with a 0, like 020, would be awkward otherwise. We will talk more about `Field` objects later but below notice we must use the `value()` method to return a string representation of the fields."
   ]
  },
  {
   "cell_type": "code",
   "execution_count": 53,
   "metadata": {},
   "outputs": [
    {
     "name": "stdout",
     "output_type": "stream",
     "text": [
      "Title with a fallback\n",
      "Photographs of Venetian villas / Royal Institute of British Architects ; detailed information compiled by Giuseppe Mazzotti.\n",
      "\n",
      "500 fields:\n",
      "Cover title : Venetian villas.\n",
      "Catalogue of an exhibition held at Royal Institute of British Architects, Feb. 25-Mar. 27, 1954.\n",
      "\n",
      "All 2XX fields:\n",
      "Photographs of Venetian villas / Royal Institute of British Architects ; detailed information compiled by Giuseppe Mazzotti.\n",
      "Venetian villas.\n",
      "London, England : The Institute, 1954.\n",
      "\n",
      "First 500: Cover title : Venetian villas.\n",
      "\n",
      "KeyError from accessing a non-existent field:\n"
     ]
    },
    {
     "ename": "KeyError",
     "evalue": "",
     "output_type": "error",
     "traceback": [
      "\u001b[0;31m---------------------------------------------------------------------------\u001b[0m",
      "\u001b[0;31mKeyError\u001b[0m                                  Traceback (most recent call last)",
      "Cell \u001b[0;32mIn[53], line 24\u001b[0m\n\u001b[1;32m     22\u001b[0m \u001b[38;5;66;03m# if you try to access a field that doesn't exist, we get a KeyError\u001b[39;00m\n\u001b[1;32m     23\u001b[0m \u001b[38;5;28mprint\u001b[39m(\u001b[38;5;124m'\u001b[39m\u001b[38;5;130;01m\\n\u001b[39;00m\u001b[38;5;124mKeyError from accessing a non-existent field:\u001b[39m\u001b[38;5;124m'\u001b[39m)\n\u001b[0;32m---> 24\u001b[0m \u001b[38;5;28mprint\u001b[39m(\u001b[43mvenetian\u001b[49m\u001b[43m[\u001b[49m\u001b[38;5;124;43m'\u001b[39;49m\u001b[38;5;124;43m999\u001b[39;49m\u001b[38;5;124;43m'\u001b[39;49m\u001b[43m]\u001b[49m)\n",
      "File \u001b[0;32m~/Code/c4l24-python4lib/.venv/lib/python3.12/site-packages/pymarc/record.py:149\u001b[0m, in \u001b[0;36mRecord.__getitem__\u001b[0;34m(self, tag)\u001b[0m\n\u001b[1;32m    140\u001b[0m \u001b[38;5;250m\u001b[39m\u001b[38;5;124;03m\"\"\"Allows a shorthand lookup by tag.\u001b[39;00m\n\u001b[1;32m    141\u001b[0m \n\u001b[1;32m    142\u001b[0m \u001b[38;5;124;03mFollows Python behavior and raises KeyError if `tag` is not in the record.\u001b[39;00m\n\u001b[0;32m   (...)\u001b[0m\n\u001b[1;32m    146\u001b[0m \u001b[38;5;124;03m    record['245']\u001b[39;00m\n\u001b[1;32m    147\u001b[0m \u001b[38;5;124;03m\"\"\"\u001b[39;00m\n\u001b[1;32m    148\u001b[0m \u001b[38;5;28;01mif\u001b[39;00m tag \u001b[38;5;129;01mnot\u001b[39;00m \u001b[38;5;129;01min\u001b[39;00m \u001b[38;5;28mself\u001b[39m:\n\u001b[0;32m--> 149\u001b[0m     \u001b[38;5;28;01mraise\u001b[39;00m \u001b[38;5;167;01mKeyError\u001b[39;00m\n\u001b[1;32m    151\u001b[0m fields: List[Field] \u001b[38;5;241m=\u001b[39m \u001b[38;5;28mself\u001b[39m\u001b[38;5;241m.\u001b[39mget_fields(tag)\n\u001b[1;32m    152\u001b[0m \u001b[38;5;28;01mif\u001b[39;00m \u001b[38;5;28mlen\u001b[39m(fields) \u001b[38;5;241m==\u001b[39m \u001b[38;5;241m0\u001b[39m:\n",
      "\u001b[0;31mKeyError\u001b[0m: "
     ]
    }
   ],
   "source": [
    "# record.get(field, default)\n",
    "# if we can't find a uniform title in 130 return 245\n",
    "print('Title with a fallback')\n",
    "title = venetian.get('130', venetian['245'])\n",
    "print(title.value())\n",
    "\n",
    "# record.get_fields(field) -> list[Field]\n",
    "print('\\n500 fields:')\n",
    "for field in venetian.get_fields('500'):\n",
    "    print(field.value())\n",
    "\n",
    "# you can pass multiple fields to get a list of all of them\n",
    "print('\\nAll 2XX fields:')\n",
    "for field in venetian.get_fields('245', '246', '260'):\n",
    "    print(field.value())\n",
    "# you could pass a list & use * to unpack it, too\n",
    "# venetian.get_fields(*['245', '246', '260']):\n",
    "\n",
    "# though there are two 500s fields, bracket notation only returns the first one\n",
    "print('\\nFirst 500:', venetian['500'].value())\n",
    "\n",
    "# if you try to access a field that doesn't exist, we get a KeyError\n",
    "print('\\nKeyError from accessing a non-existent field:')\n",
    "print(venetian['999'])"
   ]
  },
  {
   "cell_type": "markdown",
   "metadata": {},
   "source": [
    "Because bracket notation throws errors if the field doesn't exist, and only returns the first instance of a field, it's not very useful. It seems like a rare scenario to have a default field value handy for use with `get`. In general, using `get_fields` with for-in loops (which will simply not execute if there are no matching fields) seems the best method."
   ]
  },
  {
   "cell_type": "markdown",
   "metadata": {},
   "source": [
    "## Field Objects\n",
    "\n",
    "https://pymarc.readthedocs.io/en/latest/#module-pymarc.field"
   ]
  },
  {
   "cell_type": "code",
   "execution_count": null,
   "metadata": {},
   "outputs": [],
   "source": [
    "for field in venetian.get_fields('500'):\n",
    "    pass\n",
    "\n",
    "# add_subfield()\n",
    "# format_field() is like a better value()\n",
    "# subfields_as_dict()?"
   ]
  },
  {
   "cell_type": "markdown",
   "metadata": {},
   "source": [
    "## Leader Field\n",
    "\n",
    "https://pymarc.readthedocs.io/en/latest/#pymarc.leader.Leader"
   ]
  },
  {
   "cell_type": "markdown",
   "metadata": {},
   "source": [
    "## Modifying Fields\n",
    "\n",
    "..."
   ]
  },
  {
   "cell_type": "code",
   "execution_count": null,
   "metadata": {},
   "outputs": [],
   "source": [
    "# copy field from record\n",
    "# create field object from scratch"
   ]
  }
 ],
 "metadata": {
  "kernelspec": {
   "display_name": ".venv",
   "language": "python",
   "name": "python3"
  },
  "language_info": {
   "codemirror_mode": {
    "name": "ipython",
    "version": 3
   },
   "file_extension": ".py",
   "mimetype": "text/x-python",
   "name": "python",
   "nbconvert_exporter": "python",
   "pygments_lexer": "ipython3",
   "version": "3.12.3"
  }
 },
 "nbformat": 4,
 "nbformat_minor": 2
}
