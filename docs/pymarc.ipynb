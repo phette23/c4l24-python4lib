{
 "cells": [
  {
   "cell_type": "markdown",
   "metadata": {},
   "source": [
    "# Pymarc Patterns\n",
    "\n",
    "[Pymarc Documentation](https://pymarc.readthedocs.io/en/latest/)\n",
    "\n",
    "This notebook covers common patterns for working with MARC records in Python. It will start with the very basics like getting fields and move into more complex examples.\n",
    "\n",
    "The example records come from [Harvard's bibliographic records](https://archive.org/download/harvard_bibliographic_metadata) on the Internet Archive."
   ]
  },
  {
   "cell_type": "markdown",
   "metadata": {},
   "source": [
    "## Reading Records from Files\n",
    "\n",
    "Use the `MARCReader` class to read records from a file, it accepts an open file handle and returns an iterator of `Record` objects. Make sure each record is not `None` when iterating."
   ]
  },
  {
   "cell_type": "code",
   "execution_count": 2,
   "metadata": {},
   "outputs": [
    {
     "name": "stdout",
     "output_type": "stream",
     "text": [
      "Got record: Photographs of Venetian villas\n"
     ]
    }
   ],
   "source": [
    "from pymarc import MARCReader\n",
    "\n",
    "with open('assets/example.mrc', 'rb') as fh:\n",
    "    reader = MARCReader(fh)\n",
    "    for record in reader:\n",
    "        if record:\n",
    "            print(\"Got record:\", record.title.rstrip(' /'))\n",
    "            # save this global variable for use in later code blocks\n",
    "            global venetian\n",
    "            venetian = record\n",
    "        else:\n",
    "            print(\"No record found.\")"
   ]
  },
  {
   "cell_type": "markdown",
   "metadata": {},
   "source": [
    "Note that the file is opened in read-binary mode (`rb`). Read mode is sufficient because we are not modifying the file. We use binary mode because Pymarc will handle decoding strings in records, we don't want Python to do it. Try deleting the `b` in `rb`—what happens? What would happen if we didn't have an `if record` condition?\n",
    "\n",
    "There are several gotchas you can run into with encoding issues. The [`MARCReader`](https://pymarc.readthedocs.io/en/latest/#pymarc.reader.MARCReader) class has a `to_unicode` parameter to return UTF-8 strings as well as a `force_utf8` parameter which coerces the data to UTF-8 (useful if you have records with inaccurate encodings). These parameters seemed to be more commonly needed under Python 2 where it was more work to manage string encodings.\n",
    "\n"
   ]
  },
  {
   "cell_type": "markdown",
   "metadata": {},
   "source": [
    "## Simple Ways to View Record Data\n",
    "\n",
    "Pymarc comes with convenience properties for accessing common MARC fields on a record:\n",
    "\n",
    "- `record.title`\n",
    "- `record.author`\n",
    "- `record.isbn` and `record.issn`\n",
    "- `record.publisher`\n",
    "- `record.pubyear`\n",
    "\n",
    "Also, if you print a record, its string representation is the \"mnemonic marc\" format, which is a human-readable version of the MARC data where each field is printed on a new line with its tag, indicators, and subfields visible."
   ]
  },
  {
   "cell_type": "code",
   "execution_count": 3,
   "metadata": {},
   "outputs": [
    {
     "name": "stdout",
     "output_type": "stream",
     "text": [
      "Title: Photographs of Venetian villas /\n",
      "Author: None\n",
      "ISBN: None\n",
      "Publisher: The Institute,\n",
      "Year: 1954.\n",
      "=LDR  00774nam a22002057u 4500\n",
      "=001  000000010-8\n",
      "=005  20020606090541.3\n",
      "=008  821202|1954\\\\\\\\|||||||\\\\||||\\|0||||eng|d\n",
      "=035  0\\$aocm78684367\n",
      "=245  00$aPhotographs of Venetian villas /$cRoyal Institute of British Architects ; detailed information compiled by Giuseppe Mazzotti.\n",
      "=246  3\\$aVenetian villas.\n",
      "=260  0\\$aLondon, England :$bThe Institute,$c1954.\n",
      "=300  \\\\$a39 p. ;$c21 cm.\n",
      "=500  \\\\$aCover title : Venetian villas.\n",
      "=500  \\\\$aCatalogue of an exhibition held at Royal Institute of British Architects, Feb. 25-Mar. 27, 1954.\n",
      "=650  \\0$aArchitecture, Domestic$zItaly$zVenice.\n",
      "=700  1\\$aMazzotti, Giuseppe.\n",
      "=710  2\\$aRoyal Institute of British Architects.\n",
      "=988  \\\\$a20020608\n",
      "=906  \\\\$0MH\n",
      "\n"
     ]
    }
   ],
   "source": [
    "print('Title:', venetian.title)\n",
    "print('Author:', venetian.author)\n",
    "print('ISBN:', venetian.isbn)\n",
    "print('Publisher:', venetian.publisher)\n",
    "print('Year:', venetian.pubyear)\n",
    "print(venetian)"
   ]
  },
  {
   "cell_type": "markdown",
   "metadata": {},
   "source": [
    "As you can see, the properties are set to `None` if they do not exist, like the ISBN in our example.\n",
    "\n",
    "For serious work with records, **you should not use these convenience properties**. They only find the first instance of a field and return the text of certain subfields. They are useful for quick peaks at data, but not functional for most purposes. Instead, we will typically use the `get_fields()` method and iterate over all existing fields. There are also `record.series`, `record.subjects`, `record.physicaldescription` (all 300 fields), and `record.notes` (all 5XX fields) properties. Since these return a list of actual `Field` objects, they are more useful, though we should be careful that they're using the MARC fields we care about."
   ]
  },
  {
   "cell_type": "markdown",
   "metadata": {},
   "source": [
    "## Writing Records\n",
    "\n",
    "The basic steps to modify MARC records with Pymarc are:\n",
    "\n",
    "- Read the records in with `MARCReader`\n",
    "- Modify them in place—you can simply assign values to fields and subfields\n",
    "- Write the records out with `MARCWriter`\n",
    "\n",
    "Below, we prefix the example record's title field with \"Great\"."
   ]
  },
  {
   "cell_type": "code",
   "execution_count": 4,
   "metadata": {},
   "outputs": [
    {
     "name": "stdout",
     "output_type": "stream",
     "text": [
      "Great Photographs of Venetian villas\n"
     ]
    }
   ],
   "source": [
    "from pymarc import MARCReader, MARCWriter\n",
    "\n",
    "with open('assets/example.mrc', 'rb') as fh:\n",
    "    reader = MARCReader(fh)\n",
    "    with open('assets/great.mrc', 'wb') as out:\n",
    "        writer = MARCWriter(out)\n",
    "        for record in reader:\n",
    "            if record:\n",
    "                record[\"245\"][\"a\"] = f'Great {record[\"245\"][\"a\"]}'\n",
    "                writer.write(record)\n",
    "                print(record.title.rstrip(' /'))"
   ]
  },
  {
   "cell_type": "markdown",
   "metadata": {},
   "source": [
    "## Getting Fields\n",
    "\n",
    "There are three better ways to retrieve fields from a record than the convenience properties:\n",
    "\n",
    "- `get` which is like `dict`'s `get` method in that it lets you define a default value if the field doesn't exist\n",
    "- `get_fields` which returns a list of fields with a given tag\n",
    "- bracket notation, which returns the first field with a given tag\n",
    "\n",
    "In general, `get_fields` is probably the most foolproof method.\n",
    "\n",
    "For all methods, field names are strings, not numbers. Fields that begin with a 0, like 020, would be awkward otherwise. We will talk more about `Field` objects later but below notice we must use the `value()` method to return a string representation of the fields."
   ]
  },
  {
   "cell_type": "code",
   "execution_count": 60,
   "metadata": {},
   "outputs": [
    {
     "name": "stdout",
     "output_type": "stream",
     "text": [
      "Title with a fallback\n",
      "Photographs of Venetian villas / Royal Institute of British Architects ; detailed information compiled by Giuseppe Mazzotti.\n",
      "\n",
      "500 fields:\n",
      "Cover title : Venetian villas.\n",
      "Catalogue of an exhibition held at Royal Institute of British Architects, Feb. 25-Mar. 27, 1954.\n",
      "\n",
      "All 2XX fields:\n",
      "Photographs of Venetian villas / Royal Institute of British Architects ; detailed information compiled by Giuseppe Mazzotti.\n",
      "Venetian villas.\n",
      "London, England : The Institute, 1954.\n",
      "\n",
      "First 500: Cover title : Venetian villas.\n",
      "\n",
      "KeyError from accessing a non-existent field\n"
     ]
    }
   ],
   "source": [
    "# record.get(field, default)\n",
    "# if we can't find a uniform title in 130 return 245\n",
    "print('Title with a fallback')\n",
    "title = venetian.get('130', venetian['245'])\n",
    "print(title.value())\n",
    "\n",
    "# record.get_fields(field) -> list[Field]\n",
    "print('\\n500 fields:')\n",
    "for field in venetian.get_fields('500'):\n",
    "    print(field.value())\n",
    "\n",
    "# you can pass multiple fields to get a list of all of them\n",
    "print('\\nAll 2XX fields:')\n",
    "for field in venetian.get_fields('245', '246', '260'):\n",
    "    print(field.value())\n",
    "# you could pass a list & use * to unpack it, too\n",
    "# venetian.get_fields(*['245', '246', '260']):\n",
    "\n",
    "# though there are two 500s fields, bracket notation only returns the first one\n",
    "print('\\nFirst 500:', venetian['500'].value())\n",
    "\n",
    "# if you try to access a field that doesn't exist, we get a KeyError\n",
    "try:\n",
    "    print(venetian['999'])\n",
    "except KeyError as e:\n",
    "    print(\"\\nKeyError from accessing a non-existent field\")"
   ]
  },
  {
   "cell_type": "markdown",
   "metadata": {},
   "source": [
    "Because bracket notation throws errors if the field doesn't exist, and only returns the first instance of a field, it's not very useful. It seems like a rare scenario to have a default field value handy for use with `get`. In general, using `get_fields` with for-in loops (which will simply not execute if there are no matching fields) seems the best method."
   ]
  },
  {
   "cell_type": "markdown",
   "metadata": {},
   "source": [
    "## Field Objects\n",
    "\n",
    "Pymarc has a [Field](https://pymarc.readthedocs.io/en/latest/#module-pymarc.field) object for representing MARC fields, the `get_fields` method returns a list of these objects, not strings."
   ]
  },
  {
   "cell_type": "code",
   "execution_count": 61,
   "metadata": {},
   "outputs": [
    {
     "name": "stdout",
     "output_type": "stream",
     "text": [
      "Tag: 245\n",
      "Subfield A: Photographs of Venetian villas\n",
      "Subfield B with fallback: Remainder of title\n",
      "Architecture, Domestic -- Italy -- Venice. versus Architecture, Domestic Italy Venice.\n"
     ]
    }
   ],
   "source": [
    "field = venetian['245']\n",
    "print('Tag:', field.tag)\n",
    "# Fields support bracket notation just like Records do for Fields\n",
    "# with the same caveat: you'll get a KeyError for non-existent subfields\n",
    "print('Subfield A:', field['a'].rstrip(' /'))\n",
    "print('Subfield B with fallback:', field.get('b', 'Remainder of title')) # dict-like get for a specific subfield with fallback value\n",
    "\n",
    "# format_field() applies extra formatting for subject fields while value() returns all subfield values concatenated\n",
    "print(venetian.subjects[0].format_field(), 'versus', venetian.subjects[0].value())"
   ]
  },
  {
   "cell_type": "markdown",
   "metadata": {},
   "source": [
    "There are several ways to get sets of subfields:\n",
    "\n",
    "- `get_subfields()` returns a list of subfield _values_ for the codes you pass in\n",
    "- `subfields` is a property that returns a list of actual Subfield objects which each have a `code` and `value` property\n",
    "- `subfields_as_dict()` returns a dictionary of subfield codes and values, but because subfields can be repeated the values are a list of strings"
   ]
  },
  {
   "cell_type": "code",
   "execution_count": 45,
   "metadata": {},
   "outputs": [
    {
     "name": "stdout",
     "output_type": "stream",
     "text": [
      "['Photographs of Venetian villas /', 'Royal Institute of British Architects ; detailed information compiled by Giuseppe Mazzotti.']\n",
      "[Subfield(code='a', value='Photographs of Venetian villas /'), Subfield(code='c', value='Royal Institute of British Architects ; detailed information compiled by Giuseppe Mazzotti.')]\n",
      "{'a': ['Photographs of Venetian villas /'], 'c': ['Royal Institute of British Architects ; detailed information compiled by Giuseppe Mazzotti.']}\n"
     ]
    }
   ],
   "source": [
    "print(field.get_subfields('a', 'b', 'c')) # get list of values of specific subfields\n",
    "print(field.subfields) # get all subfields as objects\n",
    "print(field.subfields_as_dict()) # dict of {subfield code: [subfield values]}"
   ]
  },
  {
   "cell_type": "markdown",
   "metadata": {},
   "source": [
    "The most appropriate subfield method will depend on our use case."
   ]
  },
  {
   "cell_type": "markdown",
   "metadata": {},
   "source": [
    "## Modifying Fields\n",
    "\n",
    "add_field\n",
    "remove_field(Fields)\n",
    "remove_fields(tags)\n",
    "\n",
    "if you're using `get_fields` you probably want to copy your subfield, make changes, remove the original, and `add_field` the new one"
   ]
  },
  {
   "cell_type": "code",
   "execution_count": null,
   "metadata": {},
   "outputs": [],
   "source": [
    "# copy field from record\n",
    "# create field object from scratch\n",
    "# add a subfield to a field"
   ]
  },
  {
   "cell_type": "markdown",
   "metadata": {},
   "source": [
    "## Modifying Subfields\n",
    "\n",
    "add_subfield(code, value)\n",
    "delete_subfield(code) deletes first instance"
   ]
  }
 ],
 "metadata": {
  "kernelspec": {
   "display_name": ".venv",
   "language": "python",
   "name": "python3"
  },
  "language_info": {
   "codemirror_mode": {
    "name": "ipython",
    "version": 3
   },
   "file_extension": ".py",
   "mimetype": "text/x-python",
   "name": "python",
   "nbconvert_exporter": "python",
   "pygments_lexer": "ipython3",
   "version": "3.12.3"
  }
 },
 "nbformat": 4,
 "nbformat_minor": 2
}
