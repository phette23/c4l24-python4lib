{
 "cells": [
  {
   "cell_type": "markdown",
   "metadata": {},
   "source": [
    "# f-strings\n",
    "\n",
    "Python Version: 3.6 (with improvements in 3.12)\n",
    "\n",
    "[Real Python article](https://realpython.com/python-f-strings/)\n",
    "\n",
    "Python has always had a few ways to insert variables into strings. We can use addition, the `%` operator, and `str.format()`. Here's some examples of each:"
   ]
  },
  {
   "cell_type": "code",
   "execution_count": 1,
   "metadata": {
    "ExecuteTime": {
     "end_time": "2024-04-30T17:58:46.007718Z",
     "start_time": "2024-04-30T17:58:45.999512Z"
    }
   },
   "outputs": [
    {
     "name": "stdout",
     "output_type": "stream",
     "text": [
      "Hi, my name is Orestes and I hate snakes.\n",
      "My name is Orestes and I am 30 years old.\n",
      "Orestes is a farmer.\n"
     ]
    }
   ],
   "source": [
    "name = 'Orestes'\n",
    "print('Hi, my name is ' + name + ' and I hate snakes.')\n",
    "print('My name is %s and I am %i years old.' % (name, 30)) # % cares about the type of the variable\n",
    "print('{name} is a {job}.'.format(name='Orestes', job='farmer'))"
   ]
  },
  {
   "cell_type": "markdown",
   "metadata": {},
   "source": [
    "F-strings are sort of like a more-concise `str.format()`. We prefix the string with the letter `f` (case insensitive), sort of like specifiying `r`aw or `u`tf strings (from Python 2). In f-strings, we don't need to worry about the order of your variables or their type (they're cast to strings). It's arguably the most readable way to insert variables into strings."
   ]
  },
  {
   "cell_type": "code",
   "execution_count": 1,
   "metadata": {},
   "outputs": [
    {
     "name": "stdout",
     "output_type": "stream",
     "text": [
      "My name is Orestes and I am 30 years old.\n",
      "Next year I will be 31 years old.\n"
     ]
    }
   ],
   "source": [
    "name = 'Orestes'\n",
    "age = 30\n",
    "print(f\"My name is {name} and I am {age} years old.\")\n",
    "# You can also do operations inside the curly braces\n",
    "print(f\"Next year I will be {age + 1} years old.\")\n"
   ]
  },
  {
   "cell_type": "markdown",
   "metadata": {},
   "source": [
    "When using a string inside an f-string's curly brace expression, we have to use different quotes than the outer string or else Python gets confused. This frequently happens when accessing the contents of a dictionary since the keys are strings.\n",
    "\n",
    "Python 3.12 removes this restriction, allowing us to use the same quotes inside the f-string as the outer string."
   ]
  },
  {
   "cell_type": "code",
   "execution_count": 19,
   "metadata": {},
   "outputs": [
    {
     "name": "stdout",
     "output_type": "stream",
     "text": [
      "My name is ORESTES and I am 30 years old.\n",
      "My family members are Orestes, Clytemnestra, Electra, and Iphigenia\n"
     ]
    }
   ],
   "source": [
    "person = {\"name\": \"Orestes\", \"age\": 30}\n",
    "# Double quotes on the outside, single quotes on the inside. Note the function call inside the curly braces.\n",
    "print(f\"My name is {person['name'].upper()} and I am {person['age']} years old.\")\n",
    "# Printing a list with surrounding context\n",
    "family_members = [\"Orestes\", \"Clytemnestra\", \"Electra\", \"Iphigenia\"]\n",
    "print(\n",
    "    f\"My family members are {', '.join(family_members[:-1])}, and {family_members[-1]}\"\n",
    ")"
   ]
  },
  {
   "cell_type": "markdown",
   "metadata": {},
   "source": [
    "F-strings work with triple-quoted multi-line strings, too."
   ]
  },
  {
   "cell_type": "code",
   "execution_count": 1,
   "metadata": {},
   "outputs": [
    {
     "name": "stdout",
     "output_type": "stream",
     "text": [
      "\n",
      "    I have eaten\n",
      "    the plums\n",
      "    that were in\n",
      "    the icebox\n"
     ]
    }
   ],
   "source": [
    "fruit = \"plums\"\n",
    "location = \"icebox\"\n",
    "print(\n",
    "    f\"\"\"\n",
    "    I have eaten\n",
    "    the {fruit}\n",
    "    that were in\n",
    "    the {location}\"\"\"\n",
    ")"
   ]
  },
  {
   "cell_type": "markdown",
   "metadata": {},
   "source": [
    "There may be circumstances where f-strings are inconvenient. For instance, Real Python points out that [dictionary interpolation](https://realpython.com/python-f-strings/#dictionary-interpolation) still might be more convenient with `str.format()` because we can use the `**` operator to unpack the dictionary and avoid repeating its name over and over again, instead referencing the keys directly."
   ]
  },
  {
   "cell_type": "code",
   "execution_count": 18,
   "metadata": {},
   "outputs": [
    {
     "name": "stdout",
     "output_type": "stream",
     "text": [
      "The Odyssey by Homer was published in 800 BCE and is 475 pages long.\n",
      "The Odyssey by Homer was published in 800 BCE and is 475 pages long.\n"
     ]
    }
   ],
   "source": [
    "book = {\"title\": \"The Odyssey\", \"author\": \"Homer\", \"year\": \"800 BCE\", \"pages\": 475}\n",
    "# f-strings make you repeated the dict name & (prior to 3.12) juggle quote types\n",
    "print(f\"{book['title']} by {book['author']} was published in {book['year']} and is {book['pages']} pages long.\")\n",
    "# str.format is actually much more readable for this use case\n",
    "print(\"{title} by {author} was published in {year} and is {pages} pages long.\".format(**book))"
   ]
  }
 ],
 "metadata": {
  "kernelspec": {
   "display_name": "Python 3",
   "language": "python",
   "name": "python3"
  },
  "language_info": {
   "codemirror_mode": {
    "name": "ipython",
    "version": 3
   },
   "file_extension": ".py",
   "mimetype": "text/x-python",
   "name": "python",
   "nbconvert_exporter": "python",
   "pygments_lexer": "ipython3",
   "version": "3.12.3"
  }
 },
 "nbformat": 4,
 "nbformat_minor": 2
}
