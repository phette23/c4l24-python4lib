{
 "cells": [
  {
   "cell_type": "markdown",
   "metadata": {},
   "source": [
    "# Pandas 🐼 🐼 🐼\n",
    "\n",
    "[Pandas Website](https://pandas.pydata.org/)\n",
    "\n",
    "Pandas is a data analysis, manipulation, and visualization library. It's become a go-to tool for data scientists. Pandas not only provides many useful methods for working with data, but it's also quite fast because it vectorizes many operations, performing operations in parallel rather than one by one.\n",
    "\n",
    "There have been whole books written about Pandas and it's feature set is vast. Here, my goal is to demonstrate at a basic level _what Pandas can do_ in terms of loading, filtering, and visualizing data so you can determine if it's a tool you want to learn more about.\n",
    "\n",
    "The [Pandas API documentation](https://pandas.pydata.org/pandas-docs/stable/reference/index.html#api) is excellent and each method has a set of concrete examples below its list of parameters. There's a lot of nuance to some of these concepts, and many functions can do what we want but only if we use a few of their many parameters.\n"
   ]
  },
  {
   "cell_type": "markdown",
   "metadata": {},
   "source": [
    "## Loading Data\n",
    "\n",
    "Let's import panda and load data from a CSV file. I've included some anonymized reference interactions in this repo as an example."
   ]
  },
  {
   "cell_type": "code",
   "execution_count": 57,
   "metadata": {},
   "outputs": [
    {
     "data": {
      "text/html": [
       "<div>\n",
       "<style scoped>\n",
       "    .dataframe tbody tr th:only-of-type {\n",
       "        vertical-align: middle;\n",
       "    }\n",
       "\n",
       "    .dataframe tbody tr th {\n",
       "        vertical-align: top;\n",
       "    }\n",
       "\n",
       "    .dataframe thead th {\n",
       "        text-align: right;\n",
       "    }\n",
       "</style>\n",
       "<table border=\"1\" class=\"dataframe\">\n",
       "  <thead>\n",
       "    <tr style=\"text-align: right;\">\n",
       "      <th></th>\n",
       "      <th>datetime</th>\n",
       "      <th>email</th>\n",
       "      <th>type</th>\n",
       "      <th>mode</th>\n",
       "      <th>patron category</th>\n",
       "      <th>topics</th>\n",
       "      <th>location</th>\n",
       "      <th>duration</th>\n",
       "    </tr>\n",
       "  </thead>\n",
       "  <tbody>\n",
       "    <tr>\n",
       "      <th>0</th>\n",
       "      <td>9/1/2023 10:54:50</td>\n",
       "      <td>calypso@cca.edu</td>\n",
       "      <td>Directional</td>\n",
       "      <td>Chat</td>\n",
       "      <td>Faculty</td>\n",
       "      <td>NaN</td>\n",
       "      <td>Aeaea</td>\n",
       "      <td>11</td>\n",
       "    </tr>\n",
       "    <tr>\n",
       "      <th>1</th>\n",
       "      <td>9/1/2023 11:09:25</td>\n",
       "      <td>circe@cca.edu</td>\n",
       "      <td>Reference</td>\n",
       "      <td>Email</td>\n",
       "      <td>Faculty</td>\n",
       "      <td>NaN</td>\n",
       "      <td>Aeaea</td>\n",
       "      <td>94</td>\n",
       "    </tr>\n",
       "    <tr>\n",
       "      <th>2</th>\n",
       "      <td>9/1/2023 13:18:22</td>\n",
       "      <td>calypso@cca.edu</td>\n",
       "      <td>Directional</td>\n",
       "      <td>Chat</td>\n",
       "      <td>Undergrad</td>\n",
       "      <td>NaN</td>\n",
       "      <td>Aeaea</td>\n",
       "      <td>35</td>\n",
       "    </tr>\n",
       "    <tr>\n",
       "      <th>3</th>\n",
       "      <td>9/5/2023 8:53:28</td>\n",
       "      <td>circe@cca.edu</td>\n",
       "      <td>Service</td>\n",
       "      <td>Email</td>\n",
       "      <td>Other</td>\n",
       "      <td>NaN</td>\n",
       "      <td>Aeaea</td>\n",
       "      <td>60</td>\n",
       "    </tr>\n",
       "    <tr>\n",
       "      <th>4</th>\n",
       "      <td>9/5/2023 11:27:44</td>\n",
       "      <td>circe@cca.edu</td>\n",
       "      <td>Service</td>\n",
       "      <td>Email</td>\n",
       "      <td>Staff</td>\n",
       "      <td>NaN</td>\n",
       "      <td>Aeaea</td>\n",
       "      <td>75</td>\n",
       "    </tr>\n",
       "  </tbody>\n",
       "</table>\n",
       "</div>"
      ],
      "text/plain": [
       "            datetime            email         type   mode patron category  \\\n",
       "0  9/1/2023 10:54:50  calypso@cca.edu  Directional   Chat         Faculty   \n",
       "1  9/1/2023 11:09:25    circe@cca.edu    Reference  Email         Faculty   \n",
       "2  9/1/2023 13:18:22  calypso@cca.edu  Directional   Chat       Undergrad   \n",
       "3   9/5/2023 8:53:28    circe@cca.edu      Service  Email           Other   \n",
       "4  9/5/2023 11:27:44    circe@cca.edu      Service  Email           Staff   \n",
       "\n",
       "  topics location  duration  \n",
       "0    NaN    Aeaea        11  \n",
       "1    NaN    Aeaea        94  \n",
       "2    NaN    Aeaea        35  \n",
       "3    NaN    Aeaea        60  \n",
       "4    NaN    Aeaea        75  "
      ]
     },
     "execution_count": 57,
     "metadata": {},
     "output_type": "execute_result"
    }
   ],
   "source": [
    "import pandas as pd # common convention to reference pandas as \"pd\"\n",
    "from pathlib import Path\n",
    "\n",
    "df = pd.read_csv(Path('assets', 'reference_interactions.csv')) # read the data from the csv file\n",
    "df.head() # head(N) displays the first N rows of the dataframe (N=5 by default)"
   ]
  },
  {
   "cell_type": "markdown",
   "metadata": {},
   "source": [
    "Pandas can load data from many different sources, including CSV, Excel, SQL, and more. The functions are all named `read_{format}` like `read_excel()`, `read_sql()`, `read_json()`, `read_pickle()` (Python object serialization).\n",
    "\n",
    "The data we load must be _tabular_ in nature, as in we can interpret is as having rows and columns like a spreadsheet. A deeply nested JSON file would not work, for example. Data is read into a `DataFrame` object, the primary data structure in Pandas, which we will discuss further below."
   ]
  },
  {
   "cell_type": "markdown",
   "metadata": {},
   "source": [
    "There are a few other DataFrame methods which give us a peek at our data, such as `tail()` (same as head except it's the final N rows), `info()`, and `describe()`."
   ]
  },
  {
   "cell_type": "markdown",
   "metadata": {},
   "source": [
    "`DataFrame.info()` summarize our data, showing our columns, how many non-null values they have, and their data types. We will discuss data types more below (what looks wrong from this output?)."
   ]
  },
  {
   "cell_type": "code",
   "execution_count": 61,
   "metadata": {},
   "outputs": [
    {
     "name": "stdout",
     "output_type": "stream",
     "text": [
      "<class 'pandas.core.frame.DataFrame'>\n",
      "RangeIndex: 301 entries, 0 to 300\n",
      "Data columns (total 8 columns):\n",
      " #   Column           Non-Null Count  Dtype \n",
      "---  ------           --------------  ----- \n",
      " 0   datetime         301 non-null    object\n",
      " 1   email            301 non-null    object\n",
      " 2   type             301 non-null    object\n",
      " 3   mode             301 non-null    object\n",
      " 4   patron category  286 non-null    object\n",
      " 5   topics           134 non-null    object\n",
      " 6   location         301 non-null    object\n",
      " 7   duration         301 non-null    int64 \n",
      "dtypes: int64(1), object(7)\n",
      "memory usage: 18.9+ KB\n"
     ]
    }
   ],
   "source": [
    "df.info()"
   ]
  },
  {
   "cell_type": "markdown",
   "metadata": {},
   "source": [
    "`DataFrame.describe()` shows summary statistics for our columns, such as the number of unique values and the value that appears most frequently."
   ]
  },
  {
   "cell_type": "code",
   "execution_count": 65,
   "metadata": {},
   "outputs": [
    {
     "data": {
      "text/html": [
       "<div>\n",
       "<style scoped>\n",
       "    .dataframe tbody tr th:only-of-type {\n",
       "        vertical-align: middle;\n",
       "    }\n",
       "\n",
       "    .dataframe tbody tr th {\n",
       "        vertical-align: top;\n",
       "    }\n",
       "\n",
       "    .dataframe thead th {\n",
       "        text-align: right;\n",
       "    }\n",
       "</style>\n",
       "<table border=\"1\" class=\"dataframe\">\n",
       "  <thead>\n",
       "    <tr style=\"text-align: right;\">\n",
       "      <th></th>\n",
       "      <th>datetime</th>\n",
       "      <th>email</th>\n",
       "      <th>type</th>\n",
       "      <th>mode</th>\n",
       "      <th>patron category</th>\n",
       "      <th>topics</th>\n",
       "      <th>location</th>\n",
       "    </tr>\n",
       "  </thead>\n",
       "  <tbody>\n",
       "    <tr>\n",
       "      <th>count</th>\n",
       "      <td>301</td>\n",
       "      <td>301</td>\n",
       "      <td>301</td>\n",
       "      <td>301</td>\n",
       "      <td>286</td>\n",
       "      <td>134</td>\n",
       "      <td>301</td>\n",
       "    </tr>\n",
       "    <tr>\n",
       "      <th>unique</th>\n",
       "      <td>301</td>\n",
       "      <td>8</td>\n",
       "      <td>4</td>\n",
       "      <td>6</td>\n",
       "      <td>6</td>\n",
       "      <td>12</td>\n",
       "      <td>2</td>\n",
       "    </tr>\n",
       "    <tr>\n",
       "      <th>top</th>\n",
       "      <td>9/1/2023 10:54:50</td>\n",
       "      <td>calypso@cca.edu</td>\n",
       "      <td>Technical/Computing</td>\n",
       "      <td>Email</td>\n",
       "      <td>Faculty</td>\n",
       "      <td>Moodle</td>\n",
       "      <td>Aeaea</td>\n",
       "    </tr>\n",
       "    <tr>\n",
       "      <th>freq</th>\n",
       "      <td>1</td>\n",
       "      <td>114</td>\n",
       "      <td>122</td>\n",
       "      <td>140</td>\n",
       "      <td>166</td>\n",
       "      <td>70</td>\n",
       "      <td>238</td>\n",
       "    </tr>\n",
       "  </tbody>\n",
       "</table>\n",
       "</div>"
      ],
      "text/plain": [
       "                 datetime            email                 type   mode  \\\n",
       "count                 301              301                  301    301   \n",
       "unique                301                8                    4      6   \n",
       "top     9/1/2023 10:54:50  calypso@cca.edu  Technical/Computing  Email   \n",
       "freq                    1              114                  122    140   \n",
       "\n",
       "       patron category  topics location  \n",
       "count              286     134      301  \n",
       "unique               6      12        2  \n",
       "top            Faculty  Moodle    Aeaea  \n",
       "freq               166      70      238  "
      ]
     },
     "execution_count": 65,
     "metadata": {},
     "output_type": "execute_result"
    }
   ],
   "source": [
    "df.describe(exclude=[int])\n",
    "# exclude=[int] excludes the integer (duration) column from the describe() output\n",
    "# otherwise describe() really only looks at the one \"duration\" column"
   ]
  },
  {
   "cell_type": "markdown",
   "metadata": {},
   "source": [
    "`DataFrame.shape` shows how many rows and columns we have as a `(rows, columns)` tuple."
   ]
  },
  {
   "cell_type": "code",
   "execution_count": 66,
   "metadata": {},
   "outputs": [
    {
     "data": {
      "text/plain": [
       "(301, 8)"
      ]
     },
     "execution_count": 66,
     "metadata": {},
     "output_type": "execute_result"
    }
   ],
   "source": [
    "df.shape"
   ]
  },
  {
   "cell_type": "markdown",
   "metadata": {},
   "source": [
    "## Dataframes\n",
    "\n",
    "When data is loaded into Pandas, it's turned into a `dataframe`. What is a `dataframe`? It's a two-dimensional data structure _with an index_ column. Look at the result from `df.head()` above and notice the leftmost, unlabelled column. That wasn't in our original CSV files (open it to see), Pandas added it to give each row a unique identifier.\n",
    "\n",
    "The [DataFrame](https://pandas.pydata.org/pandas-docs/stable/reference/frame.html) documentation page lists its methods."
   ]
  },
  {
   "cell_type": "markdown",
   "metadata": {},
   "source": [
    "## Series\n",
    "\n",
    "A `Series` is a one-dimensional data structure in Pandas. It's a single column of a DataFrame. When we select a single column from a DataFrame, we get a Series. The [Series](https://pandas.pydata.org/pandas-docs/stable/reference/series.html) documentation page lists its methods.\n",
    "\n",
    "Series can be accessed with bracket notation, like `df['column_name']` or dot notation like `df.column_name`. The former is preferred because it works with all column names, even those that conflict with DataFrame methods."
   ]
  },
  {
   "cell_type": "code",
   "execution_count": 67,
   "metadata": {},
   "outputs": [
    {
     "name": "stdout",
     "output_type": "stream",
     "text": [
      "<class 'pandas.core.series.Series'>\n"
     ]
    },
    {
     "data": {
      "text/plain": [
       "0         calypso@cca.edu\n",
       "1           circe@cca.edu\n",
       "2         calypso@cca.edu\n",
       "3           circe@cca.edu\n",
       "4           circe@cca.edu\n",
       "              ...        \n",
       "296       calypso@cca.edu\n",
       "297       calypso@cca.edu\n",
       "298    telemachus@cca.edu\n",
       "299       calypso@cca.edu\n",
       "300    telemachus@cca.edu\n",
       "Name: email, Length: 301, dtype: object"
      ]
     },
     "execution_count": 67,
     "metadata": {},
     "output_type": "execute_result"
    }
   ],
   "source": [
    "emails = df['email']\n",
    "print(type(emails))\n",
    "emails"
   ]
  },
  {
   "cell_type": "markdown",
   "metadata": {},
   "source": [
    "Series share some of the investigative methods of DataFrames, like `head()`, `tail()`, and `describe()`."
   ]
  },
  {
   "cell_type": "code",
   "execution_count": 68,
   "metadata": {},
   "outputs": [
    {
     "data": {
      "text/plain": [
       "count                 301\n",
       "unique                  8\n",
       "top       calypso@cca.edu\n",
       "freq                  114\n",
       "Name: email, dtype: object"
      ]
     },
     "execution_count": 68,
     "metadata": {},
     "output_type": "execute_result"
    }
   ],
   "source": [
    "emails.describe()"
   ]
  },
  {
   "cell_type": "markdown",
   "metadata": {},
   "source": [
    "## Modifying Columns\n",
    "\n",
    "TODO remove @cca.edu from emails and rename to username\n",
    "\n",
    "TODO convert datetime string to actual datetime objects"
   ]
  },
  {
   "cell_type": "markdown",
   "metadata": {},
   "source": [
    "## Filtering\n",
    "\n",
    "TODO only interactions in a certain mode or a certain tyoe"
   ]
  },
  {
   "cell_type": "markdown",
   "metadata": {},
   "source": [
    "## Aggregating\n",
    "\n",
    "TODO count interactions by user, mode, and/or type"
   ]
  },
  {
   "cell_type": "markdown",
   "metadata": {},
   "source": [
    "## Visualization\n",
    "\n",
    "TODO time-series plot of interactions by month?"
   ]
  },
  {
   "cell_type": "markdown",
   "metadata": {},
   "source": [
    "## Custom Indices"
   ]
  },
  {
   "cell_type": "markdown",
   "metadata": {},
   "source": [
    "\n",
    "If our data has an identifier column, we can set it to function as the index."
   ]
  },
  {
   "cell_type": "code",
   "execution_count": 69,
   "metadata": {},
   "outputs": [
    {
     "data": {
      "text/html": [
       "<div>\n",
       "<style scoped>\n",
       "    .dataframe tbody tr th:only-of-type {\n",
       "        vertical-align: middle;\n",
       "    }\n",
       "\n",
       "    .dataframe tbody tr th {\n",
       "        vertical-align: top;\n",
       "    }\n",
       "\n",
       "    .dataframe thead th {\n",
       "        text-align: right;\n",
       "    }\n",
       "</style>\n",
       "<table border=\"1\" class=\"dataframe\">\n",
       "  <thead>\n",
       "    <tr style=\"text-align: right;\">\n",
       "      <th></th>\n",
       "      <th>email</th>\n",
       "      <th>type</th>\n",
       "      <th>mode</th>\n",
       "      <th>patron category</th>\n",
       "      <th>topics</th>\n",
       "      <th>location</th>\n",
       "      <th>duration</th>\n",
       "    </tr>\n",
       "    <tr>\n",
       "      <th>datetime</th>\n",
       "      <th></th>\n",
       "      <th></th>\n",
       "      <th></th>\n",
       "      <th></th>\n",
       "      <th></th>\n",
       "      <th></th>\n",
       "      <th></th>\n",
       "    </tr>\n",
       "  </thead>\n",
       "  <tbody>\n",
       "    <tr>\n",
       "      <th>9/1/2023 10:54:50</th>\n",
       "      <td>calypso@cca.edu</td>\n",
       "      <td>Directional</td>\n",
       "      <td>Chat</td>\n",
       "      <td>Faculty</td>\n",
       "      <td>NaN</td>\n",
       "      <td>Aeaea</td>\n",
       "      <td>11</td>\n",
       "    </tr>\n",
       "    <tr>\n",
       "      <th>9/1/2023 11:09:25</th>\n",
       "      <td>circe@cca.edu</td>\n",
       "      <td>Reference</td>\n",
       "      <td>Email</td>\n",
       "      <td>Faculty</td>\n",
       "      <td>NaN</td>\n",
       "      <td>Aeaea</td>\n",
       "      <td>94</td>\n",
       "    </tr>\n",
       "    <tr>\n",
       "      <th>9/1/2023 13:18:22</th>\n",
       "      <td>calypso@cca.edu</td>\n",
       "      <td>Directional</td>\n",
       "      <td>Chat</td>\n",
       "      <td>Undergrad</td>\n",
       "      <td>NaN</td>\n",
       "      <td>Aeaea</td>\n",
       "      <td>35</td>\n",
       "    </tr>\n",
       "    <tr>\n",
       "      <th>9/5/2023 8:53:28</th>\n",
       "      <td>circe@cca.edu</td>\n",
       "      <td>Service</td>\n",
       "      <td>Email</td>\n",
       "      <td>Other</td>\n",
       "      <td>NaN</td>\n",
       "      <td>Aeaea</td>\n",
       "      <td>60</td>\n",
       "    </tr>\n",
       "    <tr>\n",
       "      <th>9/5/2023 11:27:44</th>\n",
       "      <td>circe@cca.edu</td>\n",
       "      <td>Service</td>\n",
       "      <td>Email</td>\n",
       "      <td>Staff</td>\n",
       "      <td>NaN</td>\n",
       "      <td>Aeaea</td>\n",
       "      <td>75</td>\n",
       "    </tr>\n",
       "  </tbody>\n",
       "</table>\n",
       "</div>"
      ],
      "text/plain": [
       "                             email         type   mode patron category topics  \\\n",
       "datetime                                                                        \n",
       "9/1/2023 10:54:50  calypso@cca.edu  Directional   Chat         Faculty    NaN   \n",
       "9/1/2023 11:09:25    circe@cca.edu    Reference  Email         Faculty    NaN   \n",
       "9/1/2023 13:18:22  calypso@cca.edu  Directional   Chat       Undergrad    NaN   \n",
       "9/5/2023 8:53:28     circe@cca.edu      Service  Email           Other    NaN   \n",
       "9/5/2023 11:27:44    circe@cca.edu      Service  Email           Staff    NaN   \n",
       "\n",
       "                  location  duration  \n",
       "datetime                              \n",
       "9/1/2023 10:54:50    Aeaea        11  \n",
       "9/1/2023 11:09:25    Aeaea        94  \n",
       "9/1/2023 13:18:22    Aeaea        35  \n",
       "9/5/2023 8:53:28     Aeaea        60  \n",
       "9/5/2023 11:27:44    Aeaea        75  "
      ]
     },
     "execution_count": 69,
     "metadata": {},
     "output_type": "execute_result"
    }
   ],
   "source": [
    "# set the datetime column to be the index\n",
    "df = df.set_index('datetime')\n",
    "df.head()"
   ]
  },
  {
   "cell_type": "markdown",
   "metadata": {},
   "source": [
    "Most methods return a new DataFrame rather than modifying the original one, thus why we write `df = df.set_index('id')` to re-assign the new dataframe to the same variable, but many methods also have an `inplace` parameter which will modify the original DataFrame. Below, we reset the index back to the numeric row numbers Pandas created for us originally."
   ]
  },
  {
   "cell_type": "code",
   "execution_count": 70,
   "metadata": {},
   "outputs": [
    {
     "data": {
      "text/html": [
       "<div>\n",
       "<style scoped>\n",
       "    .dataframe tbody tr th:only-of-type {\n",
       "        vertical-align: middle;\n",
       "    }\n",
       "\n",
       "    .dataframe tbody tr th {\n",
       "        vertical-align: top;\n",
       "    }\n",
       "\n",
       "    .dataframe thead th {\n",
       "        text-align: right;\n",
       "    }\n",
       "</style>\n",
       "<table border=\"1\" class=\"dataframe\">\n",
       "  <thead>\n",
       "    <tr style=\"text-align: right;\">\n",
       "      <th></th>\n",
       "      <th>datetime</th>\n",
       "      <th>email</th>\n",
       "      <th>type</th>\n",
       "      <th>mode</th>\n",
       "      <th>patron category</th>\n",
       "      <th>topics</th>\n",
       "      <th>location</th>\n",
       "      <th>duration</th>\n",
       "    </tr>\n",
       "  </thead>\n",
       "  <tbody>\n",
       "    <tr>\n",
       "      <th>0</th>\n",
       "      <td>9/1/2023 10:54:50</td>\n",
       "      <td>calypso@cca.edu</td>\n",
       "      <td>Directional</td>\n",
       "      <td>Chat</td>\n",
       "      <td>Faculty</td>\n",
       "      <td>NaN</td>\n",
       "      <td>Aeaea</td>\n",
       "      <td>11</td>\n",
       "    </tr>\n",
       "    <tr>\n",
       "      <th>1</th>\n",
       "      <td>9/1/2023 11:09:25</td>\n",
       "      <td>circe@cca.edu</td>\n",
       "      <td>Reference</td>\n",
       "      <td>Email</td>\n",
       "      <td>Faculty</td>\n",
       "      <td>NaN</td>\n",
       "      <td>Aeaea</td>\n",
       "      <td>94</td>\n",
       "    </tr>\n",
       "    <tr>\n",
       "      <th>2</th>\n",
       "      <td>9/1/2023 13:18:22</td>\n",
       "      <td>calypso@cca.edu</td>\n",
       "      <td>Directional</td>\n",
       "      <td>Chat</td>\n",
       "      <td>Undergrad</td>\n",
       "      <td>NaN</td>\n",
       "      <td>Aeaea</td>\n",
       "      <td>35</td>\n",
       "    </tr>\n",
       "    <tr>\n",
       "      <th>3</th>\n",
       "      <td>9/5/2023 8:53:28</td>\n",
       "      <td>circe@cca.edu</td>\n",
       "      <td>Service</td>\n",
       "      <td>Email</td>\n",
       "      <td>Other</td>\n",
       "      <td>NaN</td>\n",
       "      <td>Aeaea</td>\n",
       "      <td>60</td>\n",
       "    </tr>\n",
       "    <tr>\n",
       "      <th>4</th>\n",
       "      <td>9/5/2023 11:27:44</td>\n",
       "      <td>circe@cca.edu</td>\n",
       "      <td>Service</td>\n",
       "      <td>Email</td>\n",
       "      <td>Staff</td>\n",
       "      <td>NaN</td>\n",
       "      <td>Aeaea</td>\n",
       "      <td>75</td>\n",
       "    </tr>\n",
       "  </tbody>\n",
       "</table>\n",
       "</div>"
      ],
      "text/plain": [
       "            datetime            email         type   mode patron category  \\\n",
       "0  9/1/2023 10:54:50  calypso@cca.edu  Directional   Chat         Faculty   \n",
       "1  9/1/2023 11:09:25    circe@cca.edu    Reference  Email         Faculty   \n",
       "2  9/1/2023 13:18:22  calypso@cca.edu  Directional   Chat       Undergrad   \n",
       "3   9/5/2023 8:53:28    circe@cca.edu      Service  Email           Other   \n",
       "4  9/5/2023 11:27:44    circe@cca.edu      Service  Email           Staff   \n",
       "\n",
       "  topics location  duration  \n",
       "0    NaN    Aeaea        11  \n",
       "1    NaN    Aeaea        94  \n",
       "2    NaN    Aeaea        35  \n",
       "3    NaN    Aeaea        60  \n",
       "4    NaN    Aeaea        75  "
      ]
     },
     "execution_count": 70,
     "metadata": {},
     "output_type": "execute_result"
    }
   ],
   "source": [
    "# reset the index\n",
    "df.reset_index(inplace=True)\n",
    "df.head()"
   ]
  },
  {
   "cell_type": "markdown",
   "metadata": {},
   "source": [
    "We can even specify multiple columns to function as the index. The `set_index()` documentation shows [an example of using month and year](https://pandas.pydata.org/pandas-docs/stable/reference/api/pandas.DataFrame.set_index.html#:~:text=as%20other%20DataFrame.-,Examples,-%3E%3E%3E%20df%20%3D) columns to create a datetime index."
   ]
  },
  {
   "cell_type": "markdown",
   "metadata": {},
   "source": [
    "## Concrete Example: Video Content\n",
    "\n",
    "A couple years ago, our video platform moved from an unlimited storage model to a tiered model with quotas for different types of hours of content. I had to analyze our current content to find a way to get under the quotas. That work is [on GitHub](https://github.com/cca/panopto-session-data) in [a notebook](https://github.com/cca/panopto-session-data/blob/main/notes.ipynb) that uses Pandas. Some of the facets of Pandas used include:\n",
    "\n",
    "- Joining dataframes from two CSVs with a common key\n",
    "- Creating derivative columns\n",
    "- Converting a string column to dates\n",
    "- Looking at different slices of the data in tables\n",
    "- Creating filtered data frames based on conditions and time periods\n",
    "\n",
    "I didn't do any visualization because the raw figures were more useful, and it's hard to rerun the notebook with access to the specific reports I had, but it gives a sense of how to approach a problem with Pandas."
   ]
  }
 ],
 "metadata": {
  "kernelspec": {
   "display_name": ".venv",
   "language": "python",
   "name": "python3"
  },
  "language_info": {
   "codemirror_mode": {
    "name": "ipython",
    "version": 3
   },
   "file_extension": ".py",
   "mimetype": "text/x-python",
   "name": "python",
   "nbconvert_exporter": "python",
   "pygments_lexer": "ipython3",
   "version": "3.12.3"
  }
 },
 "nbformat": 4,
 "nbformat_minor": 2
}
