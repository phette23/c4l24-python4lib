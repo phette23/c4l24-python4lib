{
 "cells": [
  {
   "cell_type": "markdown",
   "metadata": {},
   "source": [
    "# Pandas 🐼 🐼 🐼\n",
    "\n",
    "[Pandas Website](https://pandas.pydata.org/)\n",
    "\n",
    "Pandas is a data analysis, manipulation, and visualization library. It's become a go-to tool for data scientists. Pandas not only provides many useful methods for working with data, but it's also quite fast because it vectorizes many operations, performing operations in parallel rather than one by one.\n",
    "\n",
    "There have been whole books written about Pandas and it's feature set is vast. Here, my goal is to demonstrate at a basic level _what Pandas can do_ in terms of loading, filtering, and visualizing data so you can determine if it's a tool you want to learn more about.\n",
    "\n",
    "The [Pandas API documentation](https://pandas.pydata.org/pandas-docs/stable/reference/index.html#api) is excellent and each method has a set of concrete examples below its list of parameters. There's a lot of nuance to some of these concepts, and many functions can do what we want but only if we use a few of their many parameters.\n"
   ]
  },
  {
   "cell_type": "markdown",
   "metadata": {},
   "source": [
    "## Loading Data\n",
    "\n",
    "Let's import panda and load data from a CSV file. I've included some anonymized reference interactions in this repo as an example."
   ]
  },
  {
   "cell_type": "code",
   "execution_count": 19,
   "metadata": {},
   "outputs": [
    {
     "data": {
      "text/html": [
       "<div>\n",
       "<style scoped>\n",
       "    .dataframe tbody tr th:only-of-type {\n",
       "        vertical-align: middle;\n",
       "    }\n",
       "\n",
       "    .dataframe tbody tr th {\n",
       "        vertical-align: top;\n",
       "    }\n",
       "\n",
       "    .dataframe thead th {\n",
       "        text-align: right;\n",
       "    }\n",
       "</style>\n",
       "<table border=\"1\" class=\"dataframe\">\n",
       "  <thead>\n",
       "    <tr style=\"text-align: right;\">\n",
       "      <th></th>\n",
       "      <th>datetime</th>\n",
       "      <th>email</th>\n",
       "      <th>type</th>\n",
       "      <th>mode</th>\n",
       "      <th>patron category</th>\n",
       "      <th>topics</th>\n",
       "      <th>location</th>\n",
       "      <th>duration</th>\n",
       "    </tr>\n",
       "  </thead>\n",
       "  <tbody>\n",
       "    <tr>\n",
       "      <th>0</th>\n",
       "      <td>9/1/2023 10:54:50</td>\n",
       "      <td>calypso@cca.edu</td>\n",
       "      <td>Directional</td>\n",
       "      <td>Chat</td>\n",
       "      <td>Faculty</td>\n",
       "      <td>NaN</td>\n",
       "      <td>Aeaea</td>\n",
       "      <td>11</td>\n",
       "    </tr>\n",
       "    <tr>\n",
       "      <th>1</th>\n",
       "      <td>9/1/2023 11:09:25</td>\n",
       "      <td>circe@cca.edu</td>\n",
       "      <td>Reference</td>\n",
       "      <td>Email</td>\n",
       "      <td>Faculty</td>\n",
       "      <td>NaN</td>\n",
       "      <td>Aeaea</td>\n",
       "      <td>94</td>\n",
       "    </tr>\n",
       "    <tr>\n",
       "      <th>2</th>\n",
       "      <td>9/1/2023 13:18:22</td>\n",
       "      <td>calypso@cca.edu</td>\n",
       "      <td>Directional</td>\n",
       "      <td>Chat</td>\n",
       "      <td>Undergrad</td>\n",
       "      <td>NaN</td>\n",
       "      <td>Aeaea</td>\n",
       "      <td>35</td>\n",
       "    </tr>\n",
       "    <tr>\n",
       "      <th>3</th>\n",
       "      <td>9/5/2023 8:53:28</td>\n",
       "      <td>circe@cca.edu</td>\n",
       "      <td>Service</td>\n",
       "      <td>Email</td>\n",
       "      <td>Other</td>\n",
       "      <td>NaN</td>\n",
       "      <td>Aeaea</td>\n",
       "      <td>60</td>\n",
       "    </tr>\n",
       "    <tr>\n",
       "      <th>4</th>\n",
       "      <td>9/5/2023 11:27:44</td>\n",
       "      <td>circe@cca.edu</td>\n",
       "      <td>Service</td>\n",
       "      <td>Email</td>\n",
       "      <td>Staff</td>\n",
       "      <td>NaN</td>\n",
       "      <td>Aeaea</td>\n",
       "      <td>75</td>\n",
       "    </tr>\n",
       "  </tbody>\n",
       "</table>\n",
       "</div>"
      ],
      "text/plain": [
       "            datetime            email         type   mode patron category  \\\n",
       "0  9/1/2023 10:54:50  calypso@cca.edu  Directional   Chat         Faculty   \n",
       "1  9/1/2023 11:09:25    circe@cca.edu    Reference  Email         Faculty   \n",
       "2  9/1/2023 13:18:22  calypso@cca.edu  Directional   Chat       Undergrad   \n",
       "3   9/5/2023 8:53:28    circe@cca.edu      Service  Email           Other   \n",
       "4  9/5/2023 11:27:44    circe@cca.edu      Service  Email           Staff   \n",
       "\n",
       "  topics location  duration  \n",
       "0    NaN    Aeaea        11  \n",
       "1    NaN    Aeaea        94  \n",
       "2    NaN    Aeaea        35  \n",
       "3    NaN    Aeaea        60  \n",
       "4    NaN    Aeaea        75  "
      ]
     },
     "execution_count": 19,
     "metadata": {},
     "output_type": "execute_result"
    }
   ],
   "source": [
    "import pandas as pd # common convention to reference pandas as \"pd\"\n",
    "from pathlib import Path\n",
    "\n",
    "df = pd.read_csv(Path('assets', 'reference_interactions.csv')) # read the data from the csv file\n",
    "df.head() # head(N) displays the first N rows of the dataframe (N=5 by default)"
   ]
  },
  {
   "cell_type": "markdown",
   "metadata": {},
   "source": [
    "Pandas can load data from many different sources, including CSV, Excel, SQL, and more. The functions are all named `read_{format}` like `read_excel()`, `read_sql()`, `read_json()`, `read_pickle()` (Python object serialization).\n",
    "\n",
    "The data we load must be _tabular_ in nature, as in we can interpret is as having rows and columns like a spreadsheet. A deeply nested JSON file would not work, for example. Data is read into a `DataFrame` object, the primary data structure in Pandas, which we will discuss further below."
   ]
  },
  {
   "cell_type": "markdown",
   "metadata": {},
   "source": [
    "There are a few other DataFrame methods which give us a peek at our data, such as `tail()` (same as head except it's the final N rows), `info()`, and `describe()`."
   ]
  },
  {
   "cell_type": "markdown",
   "metadata": {},
   "source": [
    "`DataFrame.info()` summarize our data, showing our columns, how many non-null values they have, and their data types. We will discuss data types more below (what looks wrong from this output?)."
   ]
  },
  {
   "cell_type": "code",
   "execution_count": 20,
   "metadata": {},
   "outputs": [
    {
     "name": "stdout",
     "output_type": "stream",
     "text": [
      "<class 'pandas.core.frame.DataFrame'>\n",
      "RangeIndex: 301 entries, 0 to 300\n",
      "Data columns (total 8 columns):\n",
      " #   Column           Non-Null Count  Dtype \n",
      "---  ------           --------------  ----- \n",
      " 0   datetime         301 non-null    object\n",
      " 1   email            301 non-null    object\n",
      " 2   type             301 non-null    object\n",
      " 3   mode             301 non-null    object\n",
      " 4   patron category  286 non-null    object\n",
      " 5   topics           134 non-null    object\n",
      " 6   location         301 non-null    object\n",
      " 7   duration         301 non-null    int64 \n",
      "dtypes: int64(1), object(7)\n",
      "memory usage: 18.9+ KB\n"
     ]
    }
   ],
   "source": [
    "df.info()"
   ]
  },
  {
   "cell_type": "markdown",
   "metadata": {},
   "source": [
    "`DataFrame.describe()` shows summary statistics for our columns, such as the number of unique values and the value that appears most frequently."
   ]
  },
  {
   "cell_type": "code",
   "execution_count": 21,
   "metadata": {},
   "outputs": [
    {
     "data": {
      "text/html": [
       "<div>\n",
       "<style scoped>\n",
       "    .dataframe tbody tr th:only-of-type {\n",
       "        vertical-align: middle;\n",
       "    }\n",
       "\n",
       "    .dataframe tbody tr th {\n",
       "        vertical-align: top;\n",
       "    }\n",
       "\n",
       "    .dataframe thead th {\n",
       "        text-align: right;\n",
       "    }\n",
       "</style>\n",
       "<table border=\"1\" class=\"dataframe\">\n",
       "  <thead>\n",
       "    <tr style=\"text-align: right;\">\n",
       "      <th></th>\n",
       "      <th>datetime</th>\n",
       "      <th>email</th>\n",
       "      <th>type</th>\n",
       "      <th>mode</th>\n",
       "      <th>patron category</th>\n",
       "      <th>topics</th>\n",
       "      <th>location</th>\n",
       "    </tr>\n",
       "  </thead>\n",
       "  <tbody>\n",
       "    <tr>\n",
       "      <th>count</th>\n",
       "      <td>301</td>\n",
       "      <td>301</td>\n",
       "      <td>301</td>\n",
       "      <td>301</td>\n",
       "      <td>286</td>\n",
       "      <td>134</td>\n",
       "      <td>301</td>\n",
       "    </tr>\n",
       "    <tr>\n",
       "      <th>unique</th>\n",
       "      <td>301</td>\n",
       "      <td>8</td>\n",
       "      <td>4</td>\n",
       "      <td>6</td>\n",
       "      <td>6</td>\n",
       "      <td>12</td>\n",
       "      <td>2</td>\n",
       "    </tr>\n",
       "    <tr>\n",
       "      <th>top</th>\n",
       "      <td>9/1/2023 10:54:50</td>\n",
       "      <td>calypso@cca.edu</td>\n",
       "      <td>Technical/Computing</td>\n",
       "      <td>Email</td>\n",
       "      <td>Faculty</td>\n",
       "      <td>Moodle</td>\n",
       "      <td>Aeaea</td>\n",
       "    </tr>\n",
       "    <tr>\n",
       "      <th>freq</th>\n",
       "      <td>1</td>\n",
       "      <td>114</td>\n",
       "      <td>122</td>\n",
       "      <td>140</td>\n",
       "      <td>166</td>\n",
       "      <td>70</td>\n",
       "      <td>238</td>\n",
       "    </tr>\n",
       "  </tbody>\n",
       "</table>\n",
       "</div>"
      ],
      "text/plain": [
       "                 datetime            email                 type   mode  \\\n",
       "count                 301              301                  301    301   \n",
       "unique                301                8                    4      6   \n",
       "top     9/1/2023 10:54:50  calypso@cca.edu  Technical/Computing  Email   \n",
       "freq                    1              114                  122    140   \n",
       "\n",
       "       patron category  topics location  \n",
       "count              286     134      301  \n",
       "unique               6      12        2  \n",
       "top            Faculty  Moodle    Aeaea  \n",
       "freq               166      70      238  "
      ]
     },
     "execution_count": 21,
     "metadata": {},
     "output_type": "execute_result"
    }
   ],
   "source": [
    "df.describe(exclude=[int])\n",
    "# exclude=[int] excludes the integer (duration) column from the describe() output\n",
    "# otherwise describe() really only looks at the one \"duration\" column"
   ]
  },
  {
   "cell_type": "markdown",
   "metadata": {},
   "source": [
    "`DataFrame.shape` shows how many rows and columns we have as a `(rows, columns)` tuple."
   ]
  },
  {
   "cell_type": "code",
   "execution_count": 22,
   "metadata": {},
   "outputs": [
    {
     "data": {
      "text/plain": [
       "(301, 8)"
      ]
     },
     "execution_count": 22,
     "metadata": {},
     "output_type": "execute_result"
    }
   ],
   "source": [
    "df.shape"
   ]
  },
  {
   "cell_type": "markdown",
   "metadata": {},
   "source": [
    "## Dataframes\n",
    "\n",
    "When data is loaded into Pandas, it's turned into a `dataframe`. What is a `dataframe`? It's a two-dimensional data structure _with an index_ column. Look at the result from `df.head()` above and notice the leftmost, unlabelled column. That wasn't in our original CSV files (open it to see), Pandas added it to give each row a unique identifier.\n",
    "\n",
    "The [DataFrame](https://pandas.pydata.org/pandas-docs/stable/reference/frame.html) documentation page lists its methods, a few of wihch will come up as we explore below."
   ]
  },
  {
   "cell_type": "markdown",
   "metadata": {},
   "source": [
    "## Series\n",
    "\n",
    "A `Series` is a one-dimensional data structure in Pandas. It's a single column of a DataFrame. When we select a single column from a DataFrame, we get a Series. The [Series](https://pandas.pydata.org/pandas-docs/stable/reference/series.html) documentation page lists its methods.\n",
    "\n",
    "Series can be accessed with bracket notation, like `df['column_name']` or dot notation like `df.column_name`. The former is preferred because it works with all column names, even those that conflict with DataFrame methods."
   ]
  },
  {
   "cell_type": "code",
   "execution_count": 23,
   "metadata": {},
   "outputs": [
    {
     "name": "stdout",
     "output_type": "stream",
     "text": [
      "<class 'pandas.core.series.Series'>\n"
     ]
    },
    {
     "data": {
      "text/plain": [
       "0         calypso@cca.edu\n",
       "1           circe@cca.edu\n",
       "2         calypso@cca.edu\n",
       "3           circe@cca.edu\n",
       "4           circe@cca.edu\n",
       "              ...        \n",
       "296       calypso@cca.edu\n",
       "297       calypso@cca.edu\n",
       "298    telemachus@cca.edu\n",
       "299       calypso@cca.edu\n",
       "300    telemachus@cca.edu\n",
       "Name: email, Length: 301, dtype: object"
      ]
     },
     "execution_count": 23,
     "metadata": {},
     "output_type": "execute_result"
    }
   ],
   "source": [
    "emails = df['email']\n",
    "print(type(emails))\n",
    "emails"
   ]
  },
  {
   "cell_type": "markdown",
   "metadata": {},
   "source": [
    "Series share some of the investigative methods of DataFrames, like `head()`, `tail()`, and `describe()`."
   ]
  },
  {
   "cell_type": "code",
   "execution_count": 24,
   "metadata": {},
   "outputs": [
    {
     "data": {
      "text/plain": [
       "count                 301\n",
       "unique                  8\n",
       "top       calypso@cca.edu\n",
       "freq                  114\n",
       "Name: email, dtype: object"
      ]
     },
     "execution_count": 24,
     "metadata": {},
     "output_type": "execute_result"
    }
   ],
   "source": [
    "emails.describe()"
   ]
  },
  {
   "cell_type": "markdown",
   "metadata": {},
   "source": [
    "## Modifying Columns\n",
    "\n",
    "Much as we can create a new DataFrame with a method and then re-assign it to the variable `df`, we can create assign derivatives or changes to columns. There are a couple nuances to how this works—[string methods](https://pandas.pydata.org/docs/user_guide/text.html#string-methods) and lambda functions—but let's just see how it works first."
   ]
  },
  {
   "cell_type": "code",
   "execution_count": 25,
   "metadata": {},
   "outputs": [
    {
     "data": {
      "text/html": [
       "<div>\n",
       "<style scoped>\n",
       "    .dataframe tbody tr th:only-of-type {\n",
       "        vertical-align: middle;\n",
       "    }\n",
       "\n",
       "    .dataframe tbody tr th {\n",
       "        vertical-align: top;\n",
       "    }\n",
       "\n",
       "    .dataframe thead th {\n",
       "        text-align: right;\n",
       "    }\n",
       "</style>\n",
       "<table border=\"1\" class=\"dataframe\">\n",
       "  <thead>\n",
       "    <tr style=\"text-align: right;\">\n",
       "      <th></th>\n",
       "      <th>datetime</th>\n",
       "      <th>email</th>\n",
       "      <th>type</th>\n",
       "      <th>mode</th>\n",
       "      <th>category</th>\n",
       "      <th>topics</th>\n",
       "      <th>location</th>\n",
       "      <th>duration</th>\n",
       "      <th>username</th>\n",
       "    </tr>\n",
       "  </thead>\n",
       "  <tbody>\n",
       "    <tr>\n",
       "      <th>0</th>\n",
       "      <td>9/1/2023 10:54:50</td>\n",
       "      <td>calypso@cca.edu</td>\n",
       "      <td>Directional</td>\n",
       "      <td>Chat</td>\n",
       "      <td>FACULTY</td>\n",
       "      <td>NaN</td>\n",
       "      <td>Aeaea</td>\n",
       "      <td>11</td>\n",
       "      <td>calypso</td>\n",
       "    </tr>\n",
       "    <tr>\n",
       "      <th>1</th>\n",
       "      <td>9/1/2023 11:09:25</td>\n",
       "      <td>circe@cca.edu</td>\n",
       "      <td>Reference</td>\n",
       "      <td>Email</td>\n",
       "      <td>FACULTY</td>\n",
       "      <td>NaN</td>\n",
       "      <td>Aeaea</td>\n",
       "      <td>94</td>\n",
       "      <td>circe</td>\n",
       "    </tr>\n",
       "    <tr>\n",
       "      <th>2</th>\n",
       "      <td>9/1/2023 13:18:22</td>\n",
       "      <td>calypso@cca.edu</td>\n",
       "      <td>Directional</td>\n",
       "      <td>Chat</td>\n",
       "      <td>UNDERGRAD</td>\n",
       "      <td>NaN</td>\n",
       "      <td>Aeaea</td>\n",
       "      <td>35</td>\n",
       "      <td>calypso</td>\n",
       "    </tr>\n",
       "    <tr>\n",
       "      <th>3</th>\n",
       "      <td>9/5/2023 8:53:28</td>\n",
       "      <td>circe@cca.edu</td>\n",
       "      <td>Service</td>\n",
       "      <td>Email</td>\n",
       "      <td>OTHER</td>\n",
       "      <td>NaN</td>\n",
       "      <td>Aeaea</td>\n",
       "      <td>60</td>\n",
       "      <td>circe</td>\n",
       "    </tr>\n",
       "    <tr>\n",
       "      <th>4</th>\n",
       "      <td>9/5/2023 11:27:44</td>\n",
       "      <td>circe@cca.edu</td>\n",
       "      <td>Service</td>\n",
       "      <td>Email</td>\n",
       "      <td>STAFF</td>\n",
       "      <td>NaN</td>\n",
       "      <td>Aeaea</td>\n",
       "      <td>75</td>\n",
       "      <td>circe</td>\n",
       "    </tr>\n",
       "    <tr>\n",
       "      <th>...</th>\n",
       "      <td>...</td>\n",
       "      <td>...</td>\n",
       "      <td>...</td>\n",
       "      <td>...</td>\n",
       "      <td>...</td>\n",
       "      <td>...</td>\n",
       "      <td>...</td>\n",
       "      <td>...</td>\n",
       "      <td>...</td>\n",
       "    </tr>\n",
       "    <tr>\n",
       "      <th>296</th>\n",
       "      <td>5/5/2024 13:14:31</td>\n",
       "      <td>calypso@cca.edu</td>\n",
       "      <td>Technical/Computing</td>\n",
       "      <td>Email</td>\n",
       "      <td>FACULTY</td>\n",
       "      <td>VAULT</td>\n",
       "      <td>Aeaea</td>\n",
       "      <td>52</td>\n",
       "      <td>calypso</td>\n",
       "    </tr>\n",
       "    <tr>\n",
       "      <th>297</th>\n",
       "      <td>5/6/2024 10:11:25</td>\n",
       "      <td>calypso@cca.edu</td>\n",
       "      <td>Service</td>\n",
       "      <td>Chat</td>\n",
       "      <td>FACULTY</td>\n",
       "      <td>NaN</td>\n",
       "      <td>Aeaea</td>\n",
       "      <td>71</td>\n",
       "      <td>calypso</td>\n",
       "    </tr>\n",
       "    <tr>\n",
       "      <th>298</th>\n",
       "      <td>5/6/2024 16:24:32</td>\n",
       "      <td>telemachus@cca.edu</td>\n",
       "      <td>Technical/Computing</td>\n",
       "      <td>Chat</td>\n",
       "      <td>FACULTY</td>\n",
       "      <td>NaN</td>\n",
       "      <td>Aeaea</td>\n",
       "      <td>59</td>\n",
       "      <td>telemachus</td>\n",
       "    </tr>\n",
       "    <tr>\n",
       "      <th>299</th>\n",
       "      <td>5/7/2024 12:17:12</td>\n",
       "      <td>calypso@cca.edu</td>\n",
       "      <td>Technical/Computing</td>\n",
       "      <td>Email</td>\n",
       "      <td>UNDERGRAD</td>\n",
       "      <td>VAULT</td>\n",
       "      <td>Aeaea</td>\n",
       "      <td>15</td>\n",
       "      <td>calypso</td>\n",
       "    </tr>\n",
       "    <tr>\n",
       "      <th>300</th>\n",
       "      <td>5/9/2024 13:47:37</td>\n",
       "      <td>telemachus@cca.edu</td>\n",
       "      <td>Technical/Computing</td>\n",
       "      <td>Chat</td>\n",
       "      <td>FACULTY</td>\n",
       "      <td>Moodle</td>\n",
       "      <td>Aeaea</td>\n",
       "      <td>7</td>\n",
       "      <td>telemachus</td>\n",
       "    </tr>\n",
       "  </tbody>\n",
       "</table>\n",
       "<p>301 rows × 9 columns</p>\n",
       "</div>"
      ],
      "text/plain": [
       "              datetime               email                 type   mode  \\\n",
       "0    9/1/2023 10:54:50     calypso@cca.edu          Directional   Chat   \n",
       "1    9/1/2023 11:09:25       circe@cca.edu            Reference  Email   \n",
       "2    9/1/2023 13:18:22     calypso@cca.edu          Directional   Chat   \n",
       "3     9/5/2023 8:53:28       circe@cca.edu              Service  Email   \n",
       "4    9/5/2023 11:27:44       circe@cca.edu              Service  Email   \n",
       "..                 ...                 ...                  ...    ...   \n",
       "296  5/5/2024 13:14:31     calypso@cca.edu  Technical/Computing  Email   \n",
       "297  5/6/2024 10:11:25     calypso@cca.edu              Service   Chat   \n",
       "298  5/6/2024 16:24:32  telemachus@cca.edu  Technical/Computing   Chat   \n",
       "299  5/7/2024 12:17:12     calypso@cca.edu  Technical/Computing  Email   \n",
       "300  5/9/2024 13:47:37  telemachus@cca.edu  Technical/Computing   Chat   \n",
       "\n",
       "      category  topics location  duration    username  \n",
       "0      FACULTY     NaN    Aeaea        11     calypso  \n",
       "1      FACULTY     NaN    Aeaea        94       circe  \n",
       "2    UNDERGRAD     NaN    Aeaea        35     calypso  \n",
       "3        OTHER     NaN    Aeaea        60       circe  \n",
       "4        STAFF     NaN    Aeaea        75       circe  \n",
       "..         ...     ...      ...       ...         ...  \n",
       "296    FACULTY   VAULT    Aeaea        52     calypso  \n",
       "297    FACULTY     NaN    Aeaea        71     calypso  \n",
       "298    FACULTY     NaN    Aeaea        59  telemachus  \n",
       "299  UNDERGRAD   VAULT    Aeaea        15     calypso  \n",
       "300    FACULTY  Moodle    Aeaea         7  telemachus  \n",
       "\n",
       "[301 rows x 9 columns]"
      ]
     },
     "execution_count": 25,
     "metadata": {},
     "output_type": "execute_result"
    }
   ],
   "source": [
    "# uppercase all the patron categories\n",
    "df['patron category'] = df['patron category'].str.upper()\n",
    "# create a new username column\n",
    "df['username'] = df['email'].map(lambda email: email.split('@')[0])\n",
    "# we can also rename columns\n",
    "df = df.rename(columns={\"patron category\": \"category\"})\n",
    "df"
   ]
  },
  {
   "cell_type": "markdown",
   "metadata": {},
   "source": [
    "In general, it's a good idea to create new columns rather than modify existing ones, thus why we didn't modify and rename the `email` Series. This way, we can always go back to the original data if we need to.\n",
    "\n",
    "Now let's return to those two nuances mentioned earlier. Why was our first line `df['patron category'].str.upper()` with a `str` accessor? Recall that `df['patron category']` is a Series, _not_ a string itself, and Series doesn't have an `upper()` method. Instead, when we want to apply a string method to a Series, we use the `str` accessor to apply it to each element in the Series. Pandas applies the changes in parallel with a vectorized operation, which is much faster than looping over each element."
   ]
  },
  {
   "cell_type": "markdown",
   "metadata": {},
   "source": [
    "The second line of code also has an interesting argument in the `map()` method. It's a lambda function, this is essentially an anonymous function being defined as an expression inside of `map()` as opposed to with `def`. We could simply write our own function with `def` and pass it that to map, and for complex operations that's the best choice, but for simple operations that fit on one line like splitting an email address `lambda` is quite convenient."
   ]
  },
  {
   "cell_type": "code",
   "execution_count": 26,
   "metadata": {},
   "outputs": [
    {
     "name": "stdout",
     "output_type": "stream",
     "text": [
      "0    calypso@cca.edu\n",
      "Name: username, dtype: object\n"
     ]
    },
    {
     "data": {
      "text/plain": [
       "0    calypso\n",
       "Name: username, dtype: object"
      ]
     },
     "execution_count": 26,
     "metadata": {},
     "output_type": "execute_result"
    }
   ],
   "source": [
    "# overloaded operators like \"+\" and \"*\" do work element-wise on Series\n",
    "# so let's make our usernames into emails again, then use a `def` function to split them\n",
    "df['username'] = df['username'] + '@cca.edu'\n",
    "print(df['username'].head(1))\n",
    "\n",
    "def split_email(email):\n",
    "    return email.split(\"@\")[0]\n",
    "\n",
    "df['username'] = df['username'].map(split_email)\n",
    "df[\"username\"].head(1)"
   ]
  },
  {
   "cell_type": "markdown",
   "metadata": {},
   "source": [
    "We have a timestamp column `datetime`, but Pandas is treating it as a string right now. We can't do accurate sorting or aggregation with strings. We can convert it to a datetime object with `pd.to_datetime()`. Note that this is a top-level function in Pandas, not a method of a Series or DataFrame."
   ]
  },
  {
   "cell_type": "code",
   "execution_count": 27,
   "metadata": {},
   "outputs": [
    {
     "data": {
      "text/html": [
       "<div>\n",
       "<style scoped>\n",
       "    .dataframe tbody tr th:only-of-type {\n",
       "        vertical-align: middle;\n",
       "    }\n",
       "\n",
       "    .dataframe tbody tr th {\n",
       "        vertical-align: top;\n",
       "    }\n",
       "\n",
       "    .dataframe thead th {\n",
       "        text-align: right;\n",
       "    }\n",
       "</style>\n",
       "<table border=\"1\" class=\"dataframe\">\n",
       "  <thead>\n",
       "    <tr style=\"text-align: right;\">\n",
       "      <th></th>\n",
       "      <th>datetime_str</th>\n",
       "      <th>email</th>\n",
       "      <th>type</th>\n",
       "      <th>mode</th>\n",
       "      <th>category</th>\n",
       "      <th>topics</th>\n",
       "      <th>location</th>\n",
       "      <th>duration</th>\n",
       "      <th>username</th>\n",
       "      <th>datetime</th>\n",
       "    </tr>\n",
       "  </thead>\n",
       "  <tbody>\n",
       "    <tr>\n",
       "      <th>0</th>\n",
       "      <td>9/1/2023 10:54:50</td>\n",
       "      <td>calypso@cca.edu</td>\n",
       "      <td>Directional</td>\n",
       "      <td>Chat</td>\n",
       "      <td>FACULTY</td>\n",
       "      <td>NaN</td>\n",
       "      <td>Aeaea</td>\n",
       "      <td>11</td>\n",
       "      <td>calypso</td>\n",
       "      <td>2023-09-01 10:54:50</td>\n",
       "    </tr>\n",
       "    <tr>\n",
       "      <th>1</th>\n",
       "      <td>9/1/2023 11:09:25</td>\n",
       "      <td>circe@cca.edu</td>\n",
       "      <td>Reference</td>\n",
       "      <td>Email</td>\n",
       "      <td>FACULTY</td>\n",
       "      <td>NaN</td>\n",
       "      <td>Aeaea</td>\n",
       "      <td>94</td>\n",
       "      <td>circe</td>\n",
       "      <td>2023-09-01 11:09:25</td>\n",
       "    </tr>\n",
       "    <tr>\n",
       "      <th>2</th>\n",
       "      <td>9/1/2023 13:18:22</td>\n",
       "      <td>calypso@cca.edu</td>\n",
       "      <td>Directional</td>\n",
       "      <td>Chat</td>\n",
       "      <td>UNDERGRAD</td>\n",
       "      <td>NaN</td>\n",
       "      <td>Aeaea</td>\n",
       "      <td>35</td>\n",
       "      <td>calypso</td>\n",
       "      <td>2023-09-01 13:18:22</td>\n",
       "    </tr>\n",
       "    <tr>\n",
       "      <th>3</th>\n",
       "      <td>9/5/2023 8:53:28</td>\n",
       "      <td>circe@cca.edu</td>\n",
       "      <td>Service</td>\n",
       "      <td>Email</td>\n",
       "      <td>OTHER</td>\n",
       "      <td>NaN</td>\n",
       "      <td>Aeaea</td>\n",
       "      <td>60</td>\n",
       "      <td>circe</td>\n",
       "      <td>2023-09-05 08:53:28</td>\n",
       "    </tr>\n",
       "    <tr>\n",
       "      <th>4</th>\n",
       "      <td>9/5/2023 11:27:44</td>\n",
       "      <td>circe@cca.edu</td>\n",
       "      <td>Service</td>\n",
       "      <td>Email</td>\n",
       "      <td>STAFF</td>\n",
       "      <td>NaN</td>\n",
       "      <td>Aeaea</td>\n",
       "      <td>75</td>\n",
       "      <td>circe</td>\n",
       "      <td>2023-09-05 11:27:44</td>\n",
       "    </tr>\n",
       "  </tbody>\n",
       "</table>\n",
       "</div>"
      ],
      "text/plain": [
       "        datetime_str            email         type   mode   category topics  \\\n",
       "0  9/1/2023 10:54:50  calypso@cca.edu  Directional   Chat    FACULTY    NaN   \n",
       "1  9/1/2023 11:09:25    circe@cca.edu    Reference  Email    FACULTY    NaN   \n",
       "2  9/1/2023 13:18:22  calypso@cca.edu  Directional   Chat  UNDERGRAD    NaN   \n",
       "3   9/5/2023 8:53:28    circe@cca.edu      Service  Email      OTHER    NaN   \n",
       "4  9/5/2023 11:27:44    circe@cca.edu      Service  Email      STAFF    NaN   \n",
       "\n",
       "  location  duration username            datetime  \n",
       "0    Aeaea        11  calypso 2023-09-01 10:54:50  \n",
       "1    Aeaea        94    circe 2023-09-01 11:09:25  \n",
       "2    Aeaea        35  calypso 2023-09-01 13:18:22  \n",
       "3    Aeaea        60    circe 2023-09-05 08:53:28  \n",
       "4    Aeaea        75    circe 2023-09-05 11:27:44  "
      ]
     },
     "execution_count": 27,
     "metadata": {},
     "output_type": "execute_result"
    }
   ],
   "source": [
    "# convert datetime Series to datetime objects\n",
    "df = df.rename(columns={\"datetime\": \"datetime_str\"})\n",
    "df['datetime'] = pd.to_datetime(df['datetime_str'])\n",
    "df.head()"
   ]
  },
  {
   "cell_type": "markdown",
   "metadata": {},
   "source": [
    "## Filtering\n",
    "\n",
    "TODO only interactions in a certain mode or a certain tyoe"
   ]
  },
  {
   "cell_type": "markdown",
   "metadata": {},
   "source": [
    "## Aggregating\n",
    "\n",
    "TODO count interactions by user, mode, and/or type"
   ]
  },
  {
   "cell_type": "markdown",
   "metadata": {},
   "source": [
    "## Visualization\n",
    "\n",
    "TODO time-series plot of interactions by month?"
   ]
  },
  {
   "cell_type": "markdown",
   "metadata": {},
   "source": [
    "## Custom Indices"
   ]
  },
  {
   "cell_type": "markdown",
   "metadata": {},
   "source": [
    "\n",
    "If our data has an identifier column, we can set it to function as the index."
   ]
  },
  {
   "cell_type": "code",
   "execution_count": 69,
   "metadata": {},
   "outputs": [
    {
     "data": {
      "text/html": [
       "<div>\n",
       "<style scoped>\n",
       "    .dataframe tbody tr th:only-of-type {\n",
       "        vertical-align: middle;\n",
       "    }\n",
       "\n",
       "    .dataframe tbody tr th {\n",
       "        vertical-align: top;\n",
       "    }\n",
       "\n",
       "    .dataframe thead th {\n",
       "        text-align: right;\n",
       "    }\n",
       "</style>\n",
       "<table border=\"1\" class=\"dataframe\">\n",
       "  <thead>\n",
       "    <tr style=\"text-align: right;\">\n",
       "      <th></th>\n",
       "      <th>email</th>\n",
       "      <th>type</th>\n",
       "      <th>mode</th>\n",
       "      <th>patron category</th>\n",
       "      <th>topics</th>\n",
       "      <th>location</th>\n",
       "      <th>duration</th>\n",
       "    </tr>\n",
       "    <tr>\n",
       "      <th>datetime</th>\n",
       "      <th></th>\n",
       "      <th></th>\n",
       "      <th></th>\n",
       "      <th></th>\n",
       "      <th></th>\n",
       "      <th></th>\n",
       "      <th></th>\n",
       "    </tr>\n",
       "  </thead>\n",
       "  <tbody>\n",
       "    <tr>\n",
       "      <th>9/1/2023 10:54:50</th>\n",
       "      <td>calypso@cca.edu</td>\n",
       "      <td>Directional</td>\n",
       "      <td>Chat</td>\n",
       "      <td>Faculty</td>\n",
       "      <td>NaN</td>\n",
       "      <td>Aeaea</td>\n",
       "      <td>11</td>\n",
       "    </tr>\n",
       "    <tr>\n",
       "      <th>9/1/2023 11:09:25</th>\n",
       "      <td>circe@cca.edu</td>\n",
       "      <td>Reference</td>\n",
       "      <td>Email</td>\n",
       "      <td>Faculty</td>\n",
       "      <td>NaN</td>\n",
       "      <td>Aeaea</td>\n",
       "      <td>94</td>\n",
       "    </tr>\n",
       "    <tr>\n",
       "      <th>9/1/2023 13:18:22</th>\n",
       "      <td>calypso@cca.edu</td>\n",
       "      <td>Directional</td>\n",
       "      <td>Chat</td>\n",
       "      <td>Undergrad</td>\n",
       "      <td>NaN</td>\n",
       "      <td>Aeaea</td>\n",
       "      <td>35</td>\n",
       "    </tr>\n",
       "    <tr>\n",
       "      <th>9/5/2023 8:53:28</th>\n",
       "      <td>circe@cca.edu</td>\n",
       "      <td>Service</td>\n",
       "      <td>Email</td>\n",
       "      <td>Other</td>\n",
       "      <td>NaN</td>\n",
       "      <td>Aeaea</td>\n",
       "      <td>60</td>\n",
       "    </tr>\n",
       "    <tr>\n",
       "      <th>9/5/2023 11:27:44</th>\n",
       "      <td>circe@cca.edu</td>\n",
       "      <td>Service</td>\n",
       "      <td>Email</td>\n",
       "      <td>Staff</td>\n",
       "      <td>NaN</td>\n",
       "      <td>Aeaea</td>\n",
       "      <td>75</td>\n",
       "    </tr>\n",
       "  </tbody>\n",
       "</table>\n",
       "</div>"
      ],
      "text/plain": [
       "                             email         type   mode patron category topics  \\\n",
       "datetime                                                                        \n",
       "9/1/2023 10:54:50  calypso@cca.edu  Directional   Chat         Faculty    NaN   \n",
       "9/1/2023 11:09:25    circe@cca.edu    Reference  Email         Faculty    NaN   \n",
       "9/1/2023 13:18:22  calypso@cca.edu  Directional   Chat       Undergrad    NaN   \n",
       "9/5/2023 8:53:28     circe@cca.edu      Service  Email           Other    NaN   \n",
       "9/5/2023 11:27:44    circe@cca.edu      Service  Email           Staff    NaN   \n",
       "\n",
       "                  location  duration  \n",
       "datetime                              \n",
       "9/1/2023 10:54:50    Aeaea        11  \n",
       "9/1/2023 11:09:25    Aeaea        94  \n",
       "9/1/2023 13:18:22    Aeaea        35  \n",
       "9/5/2023 8:53:28     Aeaea        60  \n",
       "9/5/2023 11:27:44    Aeaea        75  "
      ]
     },
     "execution_count": 69,
     "metadata": {},
     "output_type": "execute_result"
    }
   ],
   "source": [
    "# set the datetime column to be the index\n",
    "df = df.set_index('datetime')\n",
    "df.head()"
   ]
  },
  {
   "cell_type": "markdown",
   "metadata": {},
   "source": [
    "Most methods return a new DataFrame rather than modifying the original one, thus why we write `df = df.set_index('id')` to re-assign the new dataframe to the same variable, but many methods also have an `inplace` parameter which will modify the original DataFrame. Below, we reset the index back to the numeric row numbers Pandas created for us originally."
   ]
  },
  {
   "cell_type": "code",
   "execution_count": 70,
   "metadata": {},
   "outputs": [
    {
     "data": {
      "text/html": [
       "<div>\n",
       "<style scoped>\n",
       "    .dataframe tbody tr th:only-of-type {\n",
       "        vertical-align: middle;\n",
       "    }\n",
       "\n",
       "    .dataframe tbody tr th {\n",
       "        vertical-align: top;\n",
       "    }\n",
       "\n",
       "    .dataframe thead th {\n",
       "        text-align: right;\n",
       "    }\n",
       "</style>\n",
       "<table border=\"1\" class=\"dataframe\">\n",
       "  <thead>\n",
       "    <tr style=\"text-align: right;\">\n",
       "      <th></th>\n",
       "      <th>datetime</th>\n",
       "      <th>email</th>\n",
       "      <th>type</th>\n",
       "      <th>mode</th>\n",
       "      <th>patron category</th>\n",
       "      <th>topics</th>\n",
       "      <th>location</th>\n",
       "      <th>duration</th>\n",
       "    </tr>\n",
       "  </thead>\n",
       "  <tbody>\n",
       "    <tr>\n",
       "      <th>0</th>\n",
       "      <td>9/1/2023 10:54:50</td>\n",
       "      <td>calypso@cca.edu</td>\n",
       "      <td>Directional</td>\n",
       "      <td>Chat</td>\n",
       "      <td>Faculty</td>\n",
       "      <td>NaN</td>\n",
       "      <td>Aeaea</td>\n",
       "      <td>11</td>\n",
       "    </tr>\n",
       "    <tr>\n",
       "      <th>1</th>\n",
       "      <td>9/1/2023 11:09:25</td>\n",
       "      <td>circe@cca.edu</td>\n",
       "      <td>Reference</td>\n",
       "      <td>Email</td>\n",
       "      <td>Faculty</td>\n",
       "      <td>NaN</td>\n",
       "      <td>Aeaea</td>\n",
       "      <td>94</td>\n",
       "    </tr>\n",
       "    <tr>\n",
       "      <th>2</th>\n",
       "      <td>9/1/2023 13:18:22</td>\n",
       "      <td>calypso@cca.edu</td>\n",
       "      <td>Directional</td>\n",
       "      <td>Chat</td>\n",
       "      <td>Undergrad</td>\n",
       "      <td>NaN</td>\n",
       "      <td>Aeaea</td>\n",
       "      <td>35</td>\n",
       "    </tr>\n",
       "    <tr>\n",
       "      <th>3</th>\n",
       "      <td>9/5/2023 8:53:28</td>\n",
       "      <td>circe@cca.edu</td>\n",
       "      <td>Service</td>\n",
       "      <td>Email</td>\n",
       "      <td>Other</td>\n",
       "      <td>NaN</td>\n",
       "      <td>Aeaea</td>\n",
       "      <td>60</td>\n",
       "    </tr>\n",
       "    <tr>\n",
       "      <th>4</th>\n",
       "      <td>9/5/2023 11:27:44</td>\n",
       "      <td>circe@cca.edu</td>\n",
       "      <td>Service</td>\n",
       "      <td>Email</td>\n",
       "      <td>Staff</td>\n",
       "      <td>NaN</td>\n",
       "      <td>Aeaea</td>\n",
       "      <td>75</td>\n",
       "    </tr>\n",
       "  </tbody>\n",
       "</table>\n",
       "</div>"
      ],
      "text/plain": [
       "            datetime            email         type   mode patron category  \\\n",
       "0  9/1/2023 10:54:50  calypso@cca.edu  Directional   Chat         Faculty   \n",
       "1  9/1/2023 11:09:25    circe@cca.edu    Reference  Email         Faculty   \n",
       "2  9/1/2023 13:18:22  calypso@cca.edu  Directional   Chat       Undergrad   \n",
       "3   9/5/2023 8:53:28    circe@cca.edu      Service  Email           Other   \n",
       "4  9/5/2023 11:27:44    circe@cca.edu      Service  Email           Staff   \n",
       "\n",
       "  topics location  duration  \n",
       "0    NaN    Aeaea        11  \n",
       "1    NaN    Aeaea        94  \n",
       "2    NaN    Aeaea        35  \n",
       "3    NaN    Aeaea        60  \n",
       "4    NaN    Aeaea        75  "
      ]
     },
     "execution_count": 70,
     "metadata": {},
     "output_type": "execute_result"
    }
   ],
   "source": [
    "# reset the index\n",
    "df.reset_index(inplace=True)\n",
    "df.head()"
   ]
  },
  {
   "cell_type": "markdown",
   "metadata": {},
   "source": [
    "We can even specify multiple columns to function as the index. The `set_index()` documentation shows [an example of using month and year](https://pandas.pydata.org/pandas-docs/stable/reference/api/pandas.DataFrame.set_index.html#:~:text=as%20other%20DataFrame.-,Examples,-%3E%3E%3E%20df%20%3D) columns to create a datetime index."
   ]
  },
  {
   "cell_type": "markdown",
   "metadata": {},
   "source": [
    "## Concrete Example: Video Content\n",
    "\n",
    "A couple years ago, our video platform moved from an unlimited storage model to a tiered model with quotas for different types of hours of content. I had to analyze our current content to find a way to get under the quotas. That work is [on GitHub](https://github.com/cca/panopto-session-data) in [a notebook](https://github.com/cca/panopto-session-data/blob/main/notes.ipynb) that uses Pandas. Some of the facets of Pandas used include:\n",
    "\n",
    "- Joining dataframes from two CSVs with a common key\n",
    "- Creating derivative columns\n",
    "- Converting a string column to dates\n",
    "- Looking at different slices of the data in tables\n",
    "- Creating filtered data frames based on conditions and time periods\n",
    "\n",
    "I didn't do any visualization because the raw figures were more useful, and it's hard to rerun the notebook with access to the specific reports I had, but it gives a sense of how to approach a problem with Pandas."
   ]
  }
 ],
 "metadata": {
  "kernelspec": {
   "display_name": ".venv",
   "language": "python",
   "name": "python3"
  },
  "language_info": {
   "codemirror_mode": {
    "name": "ipython",
    "version": 3
   },
   "file_extension": ".py",
   "mimetype": "text/x-python",
   "name": "python",
   "nbconvert_exporter": "python",
   "pygments_lexer": "ipython3",
   "version": "3.12.3"
  }
 },
 "nbformat": 4,
 "nbformat_minor": 2
}
