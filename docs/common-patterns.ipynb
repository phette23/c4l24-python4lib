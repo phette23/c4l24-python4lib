{
 "cells": [
  {
   "cell_type": "markdown",
   "metadata": {},
   "source": [
    "# Common Python Patterns\n",
    "\n",
    "I'm not sure how often others use these methods but these are things I find myself doing _a lot_ in Python. Please share your own commond approaches to programming problems!\n",
    "\n",
    "1. List comprehensions\n",
    "2. `enumerate()` to access the index in a loop\n",
    "3. Deduping with `set`\n",
    "4. Making types hashable for use with `set` (e.g. hashable dicts)"
   ]
  },
  {
   "cell_type": "markdown",
   "metadata": {},
   "source": [
    "## 1. List Comprehensions\n",
    "\n",
    "[Python Datastructures > List Comprenhensions](https://docs.python.org/3/tutorial/datastructures.html#tut-listcomps)\n",
    "\n",
    "Python's list comprehensions really stand out as a concise way to construct lists while filtering or transforming entries. They're often a lot fewer lines of code than iterative loops, though they might look unfamiliar to folks coming from other languages. In particular, the filtering condition coming _at the end_ of the expression feels unintuitive to me.\n",
    "\n",
    "The basic structure of a list comprehension is:\n",
    "\n",
    "```python\n",
    "[expression for item in iterable if condition]\n",
    "```"
   ]
  },
  {
   "cell_type": "code",
   "execution_count": 85,
   "metadata": {},
   "outputs": [
    {
     "name": "stdout",
     "output_type": "stream",
     "text": [
      "Numbers: [7, 37, 35, 93, 75]\n",
      "Numbers > 50: [93, 75]\n"
     ]
    }
   ],
   "source": [
    "# at its most basic: random numbers over 50 out of a list of numbers in between 1 and 100\n",
    "from random import choices\n",
    "nums = choices(range(1,101),k=5)\n",
    "print('Numbers:', nums)\n",
    "print('Numbers > 50:', [n for n in nums if n > 50])"
   ]
  },
  {
   "cell_type": "markdown",
   "metadata": {},
   "source": [
    "Sometimes the data in our list won't be a simple type like a string or integer, though, and so the \"expression\" or \"item\" parts of the list comprehension are a little more complex."
   ]
  },
  {
   "cell_type": "code",
   "execution_count": 86,
   "metadata": {},
   "outputs": [
    {
     "name": "stdout",
     "output_type": "stream",
     "text": [
      "['Ranganathan', 'Lorde']\n"
     ]
    }
   ],
   "source": [
    "ages = {\n",
    "    'Ranganathan': 55,\n",
    "    'Bates': 22,\n",
    "    'Lorde': 44,\n",
    "    'Berman': 33,\n",
    "}\n",
    "# names of people who are older than 40 —— dict.items() returns a list of (key, value) tuples\n",
    "names = [name for name, age in ages.items() if age > 40]\n",
    "print(names)"
   ]
  },
  {
   "cell_type": "markdown",
   "metadata": {},
   "source": [
    "A functional programming way of accomplishing the same thing would be to use the `filter` function to filter the `ages.items()` list and then the `map` function to extract the names from the list of filtered tuplies."
   ]
  },
  {
   "cell_type": "code",
   "execution_count": 87,
   "metadata": {},
   "outputs": [
    {
     "name": "stdout",
     "output_type": "stream",
     "text": [
      "['Ranganathan', 'Lorde']\n"
     ]
    }
   ],
   "source": [
    "names = list(map(lambda tuple: tuple[0], filter(lambda x: x[1] > 40, ages.items())))\n",
    "print(names)"
   ]
  },
  {
   "cell_type": "markdown",
   "metadata": {},
   "source": [
    "Is this really worse? I think the nested functions are harder to read. It may be personal but also `lambda` is one of my least favorite Python symbols, it seems like too obscure a math reference to make sense to many people.\n",
    "\n",
    "But mainly list comprehensions are more \"pythonic\"—people tend to use and understand them more than the functional approaches that might be preferred in another language like JavaScript."
   ]
  },
  {
   "cell_type": "markdown",
   "metadata": {},
   "source": [
    "## 2. Accessing the Index in a Loop\n",
    "\n",
    "I often want to know what number iteration I'm on in a loop. For instance, in scripts where I provide a cut-off limit for debugging purposes (e.g. \"process the first N items only\"), I need a way to know when I hit the limit, but the `for...of` loop in Python doesn't provide an index.\n",
    "\n",
    "We could keep track with our own counter, but this adds a few lines of code. Let's look at two examples that print the first 3 of 10 random numbers:"
   ]
  },
  {
   "cell_type": "code",
   "execution_count": 75,
   "metadata": {},
   "outputs": [
    {
     "name": "stdout",
     "output_type": "stream",
     "text": [
      "167\n",
      "799\n",
      "511\n"
     ]
    }
   ],
   "source": [
    "from random import choices\n",
    "\n",
    "# NOT what I'd recommend!\n",
    "count = 0\n",
    "limit = 3\n",
    "items = choices(range(1000), k=10)\n",
    "for item in items:\n",
    "    count += 1\n",
    "    if count > limit:\n",
    "        break\n",
    "    print(item)"
   ]
  },
  {
   "cell_type": "markdown",
   "metadata": {},
   "source": [
    "Now let's use the `enumerate()` function which transforms an iterable into a sequence of `(index, item)` tuples:"
   ]
  },
  {
   "cell_type": "code",
   "execution_count": 76,
   "metadata": {},
   "outputs": [
    {
     "name": "stdout",
     "output_type": "stream",
     "text": [
      "922\n",
      "503\n",
      "101\n"
     ]
    }
   ],
   "source": [
    "limit = 3\n",
    "items = choices(range(1000), k=10)\n",
    "for index, item in enumerate(items, 1):\n",
    "    if index > limit:\n",
    "        break\n",
    "    print(item)"
   ]
  },
  {
   "cell_type": "markdown",
   "metadata": {},
   "source": [
    "This saves us two lines (initializing and incrementing a counter) and a generically-named variable in the scope outside our loop."
   ]
  },
  {
   "cell_type": "markdown",
   "metadata": {},
   "source": [
    "## 3. Deduping with `set`\n",
    "\n",
    "[Python Datastructures > Sets](https://docs.python.org/3/tutorial/datastructures.html#sets)\n",
    "\n",
    "`set` is one of my favorite, underused Python data structures. Sets are mathematical concepts and they support a number of useful operations like calculating the union, intersection, and difference between sets. But I mostly use sets simply because their members are unique! If we use a set instead of a list or tuple, we get deduping for free, and we can pass a list to the `set()` constructor to dedupe it."
   ]
  },
  {
   "cell_type": "code",
   "execution_count": 77,
   "metadata": {},
   "outputs": [
    {
     "name": "stdout",
     "output_type": "stream",
     "text": [
      "Integers in list: {1, 2, 3, 4, 5}\n"
     ]
    }
   ],
   "source": [
    "l = [1, 2, 2, 3, 4, 4, 4, 4, 5]\n",
    "s = set(l)\n",
    "print('Integers in list:', s)"
   ]
  },
  {
   "cell_type": "markdown",
   "metadata": {},
   "source": [
    "We can always work with lists and then convert to a set when we need to dedupe. But if we choose to work with sets directly, their methods are quite different from those of lists. We `add()` elements to a set, not `append()` them, and we can't access elements by index because sets are unordered, though we can `for...in` loop over them just like lists. We can also check for membership with the `in` operator."
   ]
  },
  {
   "cell_type": "code",
   "execution_count": 78,
   "metadata": {},
   "outputs": [
    {
     "name": "stdout",
     "output_type": "stream",
     "text": [
      "6 is in the set now\n",
      "1 is not in the set now\n"
     ]
    }
   ],
   "source": [
    "s.add(3) # this has no effect since 3 is already in the set and no error is thrown\n",
    "s.add(6)\n",
    "if 6 in s:\n",
    "    print('6 is in the set now')\n",
    "s.discard(1) # set.remove(e) throws an error if the element is not in the set, set.discard(e) does not\n",
    "if not 1 in s:\n",
    "    print('1 is not in the set now')\n"
   ]
  },
  {
   "cell_type": "markdown",
   "metadata": {},
   "source": [
    "Below, we build a set of all subject headings in a file of MARC records. See the [pymarc](./pymarc.ipynb) notebook for more on working with MARC records."
   ]
  },
  {
   "cell_type": "code",
   "execution_count": 79,
   "metadata": {},
   "outputs": [
    {
     "name": "stdout",
     "output_type": "stream",
     "text": [
      "There were 116 unique subjects in the file\n",
      "First three subjects: American Society of Landscape Architects., Hughes, Langston, 1902-1967., African American authors -- Biography.\n"
     ]
    }
   ],
   "source": [
    "from pymarc import MARCReader\n",
    "\n",
    "subjects = set()\n",
    "with open('assets/100-harvard.mrc', 'rb') as fh:\n",
    "    reader = MARCReader(fh)\n",
    "    for record in reader:\n",
    "        if record:\n",
    "            subjects.update([field.format_field() for field in record.subjects])\n",
    "print(f\"There were {len(subjects)} unique subjects in the file\")\n",
    "print(\"First three subjects:\", ', '.join(list(subjects)[:3]))"
   ]
  },
  {
   "cell_type": "markdown",
   "metadata": {},
   "source": [
    "## 4. Making hashable types for use with `set`\n",
    "\n",
    "Dictionaries are very common data structures in Python. What happens if we're trying to dedupe a list of dictionaries using set?"
   ]
  },
  {
   "cell_type": "code",
   "execution_count": 80,
   "metadata": {},
   "outputs": [],
   "source": [
    "librarians = [\n",
    "    {\"name\": \"Ranganathan\", \"age\": 55},\n",
    "    {\"name\": \"Bates\", \"age\": 22},\n",
    "    {\"name\": \"Lorde\", \"age\": 44},\n",
    "    {\"name\": \"Berman\", \"age\": 22},\n",
    "    {\"name\": \"Ranganathan\", \"age\": 55} # duplicate!\n",
    "]"
   ]
  },
  {
   "cell_type": "code",
   "execution_count": 81,
   "metadata": {},
   "outputs": [
    {
     "ename": "TypeError",
     "evalue": "unhashable type: 'dict'",
     "output_type": "error",
     "traceback": [
      "\u001b[0;31m---------------------------------------------------------------------------\u001b[0m",
      "\u001b[0;31mTypeError\u001b[0m                                 Traceback (most recent call last)",
      "Cell \u001b[0;32mIn[81], line 2\u001b[0m\n\u001b[1;32m      1\u001b[0m \u001b[38;5;66;03m# this is in a second code block because it throws an error\u001b[39;00m\n\u001b[0;32m----> 2\u001b[0m \u001b[38;5;28;43mset\u001b[39;49m\u001b[43m(\u001b[49m\u001b[43mlibrarians\u001b[49m\u001b[43m)\u001b[49m \u001b[38;5;66;03m# TypeError: unhashable type: 'dict'\u001b[39;00m\n",
      "\u001b[0;31mTypeError\u001b[0m: unhashable type: 'dict'"
     ]
    }
   ],
   "source": [
    "# this is in a second code block because it throws an error\n",
    "set(librarians) # TypeError: unhashable type: 'dict'"
   ]
  },
  {
   "cell_type": "markdown",
   "metadata": {},
   "source": [
    "In order for the `set` datastructure to deduplicate something, its members need to have a hash method, but the `dict` type lacks one. This is because dictionaries are mutable, and mutable types are not hashable in Python. This is because the hash of an object is based on its contents, and if the contents can change, the hash would have to change too.\n",
    "\n",
    "Consider our example: what if we change the `name` \"Berman\" to be \"Bates\"? Now, because their ages are also the same, we suddenly have two identical dictionaries in our set, but the set cannot contain duplicates.\n",
    "\n",
    "However, it's actually not hard to create a hashable version of the `dict` type for use with set using a few built-in Python functions. We can convert the dict to a tuple of its items, and then convert that tuple to a hashable type with the `frozenset` constructor."
   ]
  },
  {
   "cell_type": "code",
   "execution_count": null,
   "metadata": {},
   "outputs": [
    {
     "name": "stdout",
     "output_type": "stream",
     "text": [
      "There are 5 librarians before deduplication\n",
      "There are 4 librarians after deduplication\n"
     ]
    }
   ],
   "source": [
    "# create a subclass of dict with a __hash__ method\n",
    "class Hashabledict(dict):\n",
    "    def __hash__(self):\n",
    "        return hash(frozenset(self.items()))\n",
    "\n",
    "hashed_libns = librarians # use a different var so we can rerun the cell\n",
    "print(f\"There are {len(hashed_libns)} librarians before deduplication\")\n",
    "hashed_libns = set([Hashabledict(d) for d in hashed_libns])\n",
    "print(f\"There are {len(hashed_libns)} librarians after deduplication\")"
   ]
  },
  {
   "cell_type": "markdown",
   "metadata": {},
   "source": [
    "This approach will mostly work if we have a bunch of dicts we need to deduplicate, but I want to point out limitations. Feel free to skip the details.\n",
    "\n",
    "The values of our dict's keys need to be hashable, too. So, for instance, if we have a nested dict then the nested elements need to be converted to hashable types. In general, complicated data structures may require a bit more forethought and research into what the `__hash__` and other methods (like `__eq__` which checks whether two objects are equal) are doing."
   ]
  }
 ],
 "metadata": {
  "kernelspec": {
   "display_name": ".venv",
   "language": "python",
   "name": "python3"
  },
  "language_info": {
   "codemirror_mode": {
    "name": "ipython",
    "version": 3
   },
   "file_extension": ".py",
   "mimetype": "text/x-python",
   "name": "python",
   "nbconvert_exporter": "python",
   "pygments_lexer": "ipython3",
   "version": "3.12.3"
  }
 },
 "nbformat": 4,
 "nbformat_minor": 2
}
