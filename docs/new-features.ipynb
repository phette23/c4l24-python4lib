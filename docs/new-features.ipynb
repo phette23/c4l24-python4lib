{
 "cells": [
  {
   "cell_type": "markdown",
   "metadata": {},
   "source": [
    "# New Python Language Features\n",
    "\n",
    "These are some recently added (3.5+) Python language features that are generally useful. I will note what version they're introduced in and if later versions include additional functionality. The linked PEP (Python Enhancement Proposal) documents go into the feature rationale in detail but are not necessarily the best introduction.\n",
    "\n",
    "1. [F-strings](./f-strings.ipynb)\\* (3.6) — [PEP 498](https://www.python.org/dev/peps/pep-0498/), [PEP 701](https://peps.python.org/pep-0701/)\n",
    "2. [Type Hints](./type-hints.ipynb)\\* (3.5) — [PEP 484](https://www.python.org/dev/peps/pep-0484/) & [many more](https://peps.python.org/topic/typing/)\n",
    "3. [Data Classes](https://docs.python.org/3/library/dataclasses.html) (3.7) — [PEP 557](https://www.python.org/dev/peps/pep-0557/)\n",
    "4. [Walrus `:=` Operator](https://docs.python.org/3/reference/expressions.html#grammar-token-python-grammar-assignment_expression) a.k.a \"Assignment Expressions\" (3.8) — [PEP 572](https://www.python.org/dev/peps/pep-0572/)\n",
    "5. [Match...Case](https://docs.python.org/3/tutorial/controlflow.html#match-statements) a.k.a. \"Structural Pattern Matching\" (3.10) — [PEP 634](https://www.python.org/dev/peps/pep-0634/), [PEP 635](https://www.python.org/dev/peps/pep-0635/), [PEP 636](https://www.python.org/dev/peps/pep-0636/) (tutorial)\n",
    "\n",
    "\n",
    "\\* These features have their own, separate notebooks in this repo and are not covered in this one."
   ]
  },
  {
   "cell_type": "markdown",
   "metadata": {},
   "source": [
    "## 3. Data Classes\n",
    "\n",
    "Data Classes skaffold out a lot of fundamental class methods and structure from a few type hints. They're a lighter, more readable way to define classes of a certain, common structure. They've obviously useful for \"data\" types, like information from a database or API, but that name undersells their utility a bit. They also use a decorator instead of class inheritance which may be easier to understand for folks not used to object-oriented programming."
   ]
  },
  {
   "cell_type": "code",
   "execution_count": 1,
   "metadata": {},
   "outputs": [
    {
     "name": "stdout",
     "output_type": "stream",
     "text": [
      "Person(name='Athena', age=25, location={'city': 'New York', 'state': 'NY'})\n"
     ]
    }
   ],
   "source": [
    "from dataclasses import dataclass\n",
    "\n",
    "# dataclass decorates a class\n",
    "@dataclass\n",
    "class Person:\n",
    "    name: str\n",
    "    age: int\n",
    "    location: dict\n",
    "\n",
    "Athena = Person(\"Athena\", 25, {\"city\": \"New York\", \"state\": \"NY\"})\n",
    "print(Athena)"
   ]
  },
  {
   "cell_type": "markdown",
   "metadata": {},
   "source": [
    "What did the dataclass do? It made it unnecessary to define an `__init__` constructor to handle creating our object from a series of arguments, instead it just takes the class properties and their type hints and writes that method for us. The code below does the same thing with extra boilerplate:"
   ]
  },
  {
   "cell_type": "code",
   "execution_count": null,
   "metadata": {},
   "outputs": [],
   "source": [
    "class PersonClass:\n",
    "    def __init__(self, name, age, location):\n",
    "        self.name = name\n",
    "        self.age = age\n",
    "        self.location = location"
   ]
  },
  {
   "cell_type": "markdown",
   "metadata": {},
   "source": [
    "This is only a small part of the utility because `@dataclass` fills in [many other fundamental methods](https://peps.python.org/pep-0557/#abstract) like ones that determine object sorting, equality, and string representation (notice how nice `print(Athena)` is?).\n",
    "\n",
    "How could we envision using this? I often consume data from a discovery layer or ILS API where records are returned as JSON with a certain structure. Dataclasses make it easier to map these JSON dicts to classes and then maybe utility methods that aid my work. Below, I create a `Patron` class from a standard JSON API response but with an added `is_expired` method."
   ]
  },
  {
   "cell_type": "code",
   "execution_count": 22,
   "metadata": {},
   "outputs": [
    {
     "name": "stdout",
     "output_type": "stream",
     "text": [
      "Patron(name='Athena', age=25, expiration_date='2022-01-01', homebranch='OAK')\n"
     ]
    }
   ],
   "source": [
    "# Pretend API response from an ILS\n",
    "from datetime import date\n",
    "\n",
    "\n",
    "patrons = [\n",
    "    {\"name\": \"Athena\", \"age\": 25, \"expiration_date\": \"2022-01-01\", \"homebranch\": \"OAK\"}\n",
    "]\n",
    "\n",
    "@dataclass\n",
    "class Patron:\n",
    "    name: str\n",
    "    age: int\n",
    "    expiration_date: str\n",
    "    homebranch: str = \"SF\" # default value\n",
    "\n",
    "    def is_expired(self) -> bool:\n",
    "        return date.fromisoformat(self.expiration_date) < date.today()\n",
    "\n",
    "patrons = [Patron(**p) for p in patrons] # convert dicts to Patron objects\n",
    "print(patrons[0])"
   ]
  },
  {
   "cell_type": "markdown",
   "metadata": {},
   "source": [
    "There are some notable pitfalls and limitations of dataclasses. First, the type values are not enforced (though our code editor might warn us about them). If we pass in the wrong types, they're added as attributes with no errors, creating potentially unexpected behavior. Notice how we had to parse the `birthdate` string into a `date` object in the example above? Dates coming from JSON APIs are strings so they have to be converted somewhere, simply specifying `expirdation_date: date` as a type hint won't do it."
   ]
  },
  {
   "cell_type": "code",
   "execution_count": 23,
   "metadata": {},
   "outputs": [
    {
     "name": "stdout",
     "output_type": "stream",
     "text": [
      "Name: 35 (int), Age: Zeno (str)\n"
     ]
    }
   ],
   "source": [
    "# none of these values make sense because we passed them in the wrong order\n",
    "wacky = Patron(35, \"Zeno\", {\"favorite_book\": \"The Poetics Pt. II\"}, None)\n",
    "print(f\"Name: {wacky.name} ({type(wacky.name).__name__}), Age: {wacky.age} ({type(wacky.age).__name__})\")"
   ]
  },
  {
   "cell_type": "markdown",
   "metadata": {},
   "source": [
    "Secondly, properties with default values have to be defined after those without defaults. If we think of how the constructor function works, this makes sense—we cannot omit an argument with a default value and then pass in a value for the next argument."
   ]
  },
  {
   "cell_type": "code",
   "execution_count": 27,
   "metadata": {},
   "outputs": [],
   "source": [
    "p = {\n",
    "    \"name\": \"Athena\",\n",
    "    \"homebranch\": \"OAK\",\n",
    "    \"expiration_date\": \"2024-05-30\",\n",
    "}\n",
    "# If our patron dicts from an API looks like the above and we want to specify a default value for \"homebranch\"\n",
    "# we have to do so for expiration_date too, or rearrange the dict before passing it in\n",
    "@dataclass\n",
    "class Patron:\n",
    "    name: str\n",
    "    homebranch: str = \"SF\"\n",
    "    expiration_date: str|None = None # have to specify a default value"
   ]
  },
  {
   "cell_type": "markdown",
   "metadata": {},
   "source": [
    "\n",
    "Note: [`namedtuple`](https://docs.python.org/3/library/collections.html#collections.namedtuple) is a similar, older feature that's more lightweight but less flexible. It's a good choice for simple, immutable objects."
   ]
  },
  {
   "cell_type": "markdown",
   "metadata": {},
   "source": [
    "## 4. Walrus `:=` Operator\n",
    "\n",
    "Assign a variable as part of an expression, e.g. in an `if` condition or as part of a list comprehension, with `var_name := value`. This can save a line or two of code and make things more concise, but at the risk of readability. Sometimes code linters even warn against assignments during expressions."
   ]
  },
  {
   "cell_type": "code",
   "execution_count": 27,
   "metadata": {},
   "outputs": [
    {
     "name": "stdout",
     "output_type": "stream",
     "text": [
      "List is too long (3 elements, expected <= 2)\n",
      "\n"
     ]
    }
   ],
   "source": [
    "# example from the 3.8 release notes: use result from if-condition calculation\n",
    "if (n := len([1,2,3])) > 2:\n",
    "    print(f\"List is too long ({n} elements, expected <= 2)\\n\")"
   ]
  },
  {
   "cell_type": "code",
   "execution_count": 28,
   "metadata": {},
   "outputs": [
    {
     "name": "stdout",
     "output_type": "stream",
     "text": [
      "4 digits in string \"2001: A Space Odyssey\": ['2', '0', '0', '1']\n",
      "3 digits in string \"300\": ['3', '0', '0']\n"
     ]
    }
   ],
   "source": [
    "# example: checking for a pattern and storing information about the match\n",
    "import re\n",
    "\n",
    "titles = [\"2001: A Space Odyssey\", \"Space Balls\", \"300\"]\n",
    "for title in titles:\n",
    "    if matches := re.findall(r\"\\d\", title): # remember result of `re`\n",
    "        print(f'{len(matches)} digits in string \"{title}\": {matches}')"
   ]
  },
  {
   "cell_type": "markdown",
   "metadata": {},
   "source": [
    "Below is an example using list comprehensions; given a list of numbers, some of which are represented as strings, we both filter the list to numbers over 20 but also normalize values to the `int` type. This kind of processing happens when normalizing names, call numbers, etc."
   ]
  },
  {
   "cell_type": "code",
   "execution_count": 47,
   "metadata": {},
   "outputs": [
    {
     "name": "stdout",
     "output_type": "stream",
     "text": [
      "Numbers over 20: [24, 22, 34]\n"
     ]
    }
   ],
   "source": [
    "# normalize while filtering a list (saves a function call)\n",
    "nums = [12, \"24\", \"2\", 22, \"34\"]\n",
    "print(\"Numbers over 20:\", [n for num in nums if (n := int(num)) > 20])"
   ]
  },
  {
   "cell_type": "markdown",
   "metadata": {},
   "source": [
    "We could already accomplish this by repeating the call to `int` inside the list comprehension:\n",
    "\n",
    "```py\n",
    "[int(num) for num in nums if int(num) > 20]\n",
    "```\n",
    "\n",
    "but that repeats the work of casting the number to an `int` twice. This is virtually unnoticeable when converting a few strings to integers, but could result in a lot of duplicated work if our iterable is large and our processing function expensive."
   ]
  },
  {
   "cell_type": "markdown",
   "metadata": {},
   "source": [
    "## 5. Match...Case\n",
    "\n",
    "Python has always lacked a control flow operators where a single variable or expression is checked against a variety of potential values, each with its own code blocks, and a fallback. The reasoning, I believe, was that we can already accomplish such a structure with the regular `if-elif-else` conditions. So what in JavaScript would be\n",
    "\n",
    "```js\n",
    "let temp = 'warm'\n",
    "switch (temp) {\n",
    "    case 'cold': // \"break\" needed to prevent fall through, bad JS feature\n",
    "        console.log('eww cold porridge'); break\n",
    "    case 'warm':\n",
    "        console.log('mmm delicious'); break\n",
    "    case 'hot':\n",
    "        console.log('I burned my tongue!'); break\n",
    "    default:\n",
    "        console.log('Unknown temperature!'); break\n",
    "}\n",
    "```\n",
    "\n",
    "in Python is\n",
    "\n",
    "```python\n",
    "temp = 'warm'\n",
    "if temp == 'cold':\n",
    "    print('eww cold porridge')\n",
    "elif temp == 'warm':\n",
    "    print('mmm delicious')\n",
    "elif temp == 'hot':\n",
    "    print('I burned my tongue!')\n",
    "else:\n",
    "    print('Unknown temperature!')\n",
    "```\n",
    "\n",
    "There's some obvious repetition in the Python version, we must repeat `temp ==` for each condition. The new \"structural pattern matching\" feature provides both a case-based control flow that looks less repetitive but also some neat ways to introspect into data structures."
   ]
  },
  {
   "cell_type": "code",
   "execution_count": 49,
   "metadata": {},
   "outputs": [
    {
     "name": "stdout",
     "output_type": "stream",
     "text": [
      "mmm delicious\n"
     ]
    }
   ],
   "source": [
    "# our example rewritten with match...case\n",
    "temp = 'warm'\n",
    "match temp:\n",
    "    case 'cold':\n",
    "        print('eww cold porridge')\n",
    "    case 'warm':\n",
    "        print('mmm delicious')\n",
    "    case 'hot':\n",
    "        print('I burned my tongue!')\n",
    "    case _: # this is the fallback/default\n",
    "        print('Unknown temperature!')"
   ]
  },
  {
   "cell_type": "markdown",
   "metadata": {},
   "source": [
    "There are some decent reasons to prefer this over a lengthy `if` condition: it's a bit less repetitive, the indentation makes it more clear all these conditions are related to each other, and it's arguably easier to add or remove new conditions. But it's not a huge difference.\n",
    "\n",
    "But the real power of `match...case` is in the ability to destructure data structures in the conditions. It allows much more nuanced pattern matching than simple equality and also lets us assign variables while matching. For an example, let's look at using match to analyze a Pymarc Subfield (which is a named tuple with `code` and `value` properties like `Subfield(code='a', value='Title String')`)."
   ]
  },
  {
   "cell_type": "code",
   "execution_count": 5,
   "metadata": {},
   "outputs": [
    {
     "name": "stdout",
     "output_type": "stream",
     "text": [
      "Topical term or geographic name entry element:  Creative non-fiction\n"
     ]
    }
   ],
   "source": [
    "from pymarc import Subfield\n",
    "\n",
    "subject_subfield = Subfield(code='a', value='Creative non-fiction')\n",
    "match subject_subfield:\n",
    "    case Subfield(code=\"a\", value=value):\n",
    "        print(\"Topical term or geographic name entry element: \", value)\n",
    "    case Subfield(code=\"b\", value=topical_term):\n",
    "        print(\"Topical term following geographic name entry element: \", topical_term)\n",
    "    case Subfield(code=\"c\", value=location) if location == \"Venice\": # we can add an if-condition to a case\n",
    "        print(\"It's {location}!\")\n",
    "    case Subfield(code=\"c\", value=location):\n",
    "        print(\"Location of event (spoilers: it ain't Venice): \", location)\n",
    "    case Subfield(code='v', value=genre):\n",
    "        print('Genre: ', genre)\n",
    "    case Subfield(code=code, value=\"2666\"):\n",
    "        print(f\"Whatever this {code} subfield is, it's value is 2666.\")\n",
    "    case _: # this is the fallback/default\n",
    "        print('Unknown subfield!')"
   ]
  },
  {
   "cell_type": "markdown",
   "metadata": {},
   "source": [
    "The match looks _inside_ the subfield object to see if it matches, we can specify a sort of structure for the pattern, and we can assign pieces of the structure to variables. If my example is too confusing, the official docs have [a more direct (x, y) coordinate example](https://docs.python.org/3/whatsnew/3.10.html#patterns-with-a-literal-and-variable).\n",
    "\n",
    "Sort of like dataclasses, I see tremendous value in `match` for working with APIs or variable data structures, _especially deeply nested ones_. One of my least favorite parts of working with any data is when it's deeply nested and each layer is uncertain. I end up writing lots of `if` conditions to check if a key exists, then I need type checks to do different things if it's a list, a dict, etc. `match` makes this _much_ easier."
   ]
  },
  {
   "cell_type": "code",
   "execution_count": 26,
   "metadata": {},
   "outputs": [
    {
     "name": "stdout",
     "output_type": "stream",
     "text": [
      "Hephaestus has no location.\n",
      "Artemis has no location.\n",
      "Poseidon is in The Ocean.\n",
      "Hera is in Athens, Greece.\n",
      "We don't even have a name for this patron!\n"
     ]
    }
   ],
   "source": [
    "# not every API is this poorly behaved, but some are...look at the locations\n",
    "patrons = [\n",
    "    {\"name\": \"Hephaestus\", \"location\": None},\n",
    "    {\"name\": \"Artemis\", },\n",
    "    {\"name\": \"Poseidon\", \"location\": \"The Ocean\"},\n",
    "    {\"name\": \"Hera\", \"location\": {\"city\": \"Athens\", \"country\": \"Greece\"}},\n",
    "    [1, 2, 3]\n",
    "]\n",
    "\n",
    "for patron in patrons:\n",
    "    match patron:\n",
    "        case {\"name\": name, \"location\": location} if isinstance(location, str):\n",
    "            print(f\"{name} is in {location}.\")\n",
    "        case {\"name\": name, \"location\": {\"city\": city, \"country\": country}}:\n",
    "            print(f\"{name} is in {city}, {country}.\")\n",
    "        case {\"name\": name}: # catches the first two cases, anyone with a name, has to gp last\n",
    "            print(f\"{name} has no location.\")\n",
    "        case _:\n",
    "            print(\"We don't even have a name for this patron!\")"
   ]
  },
  {
   "cell_type": "markdown",
   "metadata": {},
   "source": [
    "Despite the `location` property being either absent, `None`, a string, or a dict, we can pretty easily parse out its contents. This might have involved a lot of nested `if` conditions checking for the existence and type of the location otherwise.\n",
    "\n",
    "The blog post [\"Real-world match/case\"](https://nedbatchelder.com/blog/202312/realworld_matchcase.html) does a good job illustrating this sort of usage with an \"event\" object from the GitHub API which has different properties depending upon the type of event being represented.\n",
    "\n",
    "A concrete example of structures like this are XML documents after they're parsed with `xmltodict`, a library that converts an XML document tree into a nested dictionary. If our documents vary in structure and have deeply nested elements (happens quite a bit in MODS, for instance), then code can look like this:\n",
    "\n",
    "```python\n",
    "name = xml.get(\"mods\", {}).get(\"name\", {}).get(\"namePart\", {})\n",
    "# name can be either a list or a string or another dict if there are further nested elements!\n",
    "```"
   ]
  }
 ],
 "metadata": {
  "kernelspec": {
   "display_name": ".venv",
   "language": "python",
   "name": "python3"
  },
  "language_info": {
   "codemirror_mode": {
    "name": "ipython",
    "version": 3
   },
   "file_extension": ".py",
   "mimetype": "text/x-python",
   "name": "python",
   "nbconvert_exporter": "python",
   "pygments_lexer": "ipython3",
   "version": "3.12.3"
  }
 },
 "nbformat": 4,
 "nbformat_minor": 2
}
